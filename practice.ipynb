{
 "cells": [
  {
   "cell_type": "markdown",
   "id": "cda5fa39",
   "metadata": {},
   "source": [
    "## Brazilian E-Commerce Public Dataset by Olist\n",
    "https://www.kaggle.com/datasets/olistbr/brazilian-ecommerce/data"
   ]
  },
  {
   "cell_type": "markdown",
   "id": "c04b5d60",
   "metadata": {},
   "source": [
    "**分析目標**\n",
    " \n",
    "- 目標客群（Who）：已經完成首購的客戶，預測「誰會再次購買」。\n",
    "\n",
    "- 目標行為（What）：預測哪些客戶會在一定時間內回購（例如 30 天、60 天內）。\n",
    "\n",
    "- 商業價值（Why）：針對高機率回購客戶進行廣告再行銷，提升轉換率並降低廣告浪費，提高ROAS。\n",
    "\n",
    "**分析問題**\n",
    "\n",
    "- 哪些客戶有最高機率再次購買？\n",
    "\n",
    "- 哪些付款方式、地區或商品類別的客戶忠誠度較高？\n",
    "\n",
    "- 如何透過精準投放廣告，提高再購轉換率並降低 CPA？"
   ]
  },
  {
   "cell_type": "markdown",
   "id": "4bab4fd5",
   "metadata": {},
   "source": [
    "##### **1. 資料整理**"
   ]
  },
  {
   "cell_type": "markdown",
   "id": "d4c1505b",
   "metadata": {},
   "source": [
    "| 表格名稱             | 主要內容   | 用途                |\n",
    "| ---------------- | ------ | ----------------- |\n",
    "| `orders`     | 訂單資料   | 計算首次購買、再購行為標記 |\n",
    "| `customers` | 客戶基本資料   |  分析地區、客戶類型等特徵   |\n",
    "| `order_items`  | 商品明細 | 計算消費金額、商品類別      |\n",
    "| `order_payments` | 付款資料   | 付款方式分析       |\n"
   ]
  },
  {
   "cell_type": "code",
   "execution_count": 1,
   "id": "70ecd989",
   "metadata": {},
   "outputs": [],
   "source": [
    "# !pip install pandas"
   ]
  },
  {
   "cell_type": "code",
   "execution_count": 2,
   "id": "0251c0ad",
   "metadata": {},
   "outputs": [],
   "source": [
    "import pandas as pd\n",
    "\n",
    "# 載入 Olist 主要資料表\n",
    "orders = pd.read_csv('olist_orders_dataset.csv')\n",
    "customers = pd.read_csv('olist_customers_dataset.csv')\n",
    "order_items = pd.read_csv('olist_order_items_dataset.csv')\n",
    "payments = pd.read_csv('olist_order_payments_dataset.csv')"
   ]
  },
  {
   "cell_type": "markdown",
   "id": "fc30426f",
   "metadata": {},
   "source": [
    "建立目標變數 - 是否再次購買"
   ]
  },
  {
   "cell_type": "markdown",
   "id": "f9affcc0",
   "metadata": {},
   "source": [
    "- 連接 `customer_id` 與 `customer_unique_id`"
   ]
  },
  {
   "cell_type": "code",
   "execution_count": 3,
   "id": "051f2798",
   "metadata": {},
   "outputs": [],
   "source": [
    "customer_lookup = customers[['customer_id', 'customer_unique_id']]\n",
    "orders = orders.merge(customer_lookup, on='customer_id', how='left')"
   ]
  },
  {
   "cell_type": "code",
   "execution_count": 4,
   "id": "b92074a5",
   "metadata": {},
   "outputs": [],
   "source": [
    "# merge() 是一個函數，用來將兩個 DataFrame 進行合併\n",
    "# on 是一個參數，用來指定合併的欄位(對應欄位)(欄位名稱相同)\n",
    "# how 是一個參數，用來指定合併的方式\n",
    "# 'left' 代表左邊的 DataFrame 為主，右邊的 DataFrame 為輔\n",
    "# 這樣的合併方式會保留左邊 DataFrame 的所有資料\n",
    "# 右邊 DataFrame 的資料會根據左邊 DataFrame 的資料進行合併"
   ]
  },
  {
   "cell_type": "markdown",
   "id": "488adbc6",
   "metadata": {},
   "source": [
    "- 計算每位客戶的訂單次數"
   ]
  },
  {
   "cell_type": "code",
   "execution_count": 5,
   "id": "dacf7574",
   "metadata": {},
   "outputs": [],
   "source": [
    "customer_order_counts = orders.groupby('customer_unique_id')['order_id'].count().reset_index()\n",
    "customer_order_counts.columns = ['customer_unique_id', 'order_count']"
   ]
  },
  {
   "cell_type": "code",
   "execution_count": 6,
   "id": "ee871fe6",
   "metadata": {},
   "outputs": [],
   "source": [
    "# groupby() 是一個分組函數，用來將資料依照某個欄位進行分組\n",
    "# count() 是一個聚合函數，用來計算每個客戶的訂單數量\n",
    "# reset_index() 是一個函數，用來將分組後的結果轉換成 DataFrame 格式\n",
    "# columns 是一個屬性，用來設定 DataFrame 的欄位名稱"
   ]
  },
  {
   "cell_type": "markdown",
   "id": "7f34991d",
   "metadata": {},
   "source": [
    "- 設定目標變數 `is_repurchase`：訂單數 ≥ 2 就算有回購。"
   ]
  },
  {
   "cell_type": "code",
   "execution_count": 7,
   "id": "c717a838",
   "metadata": {},
   "outputs": [],
   "source": [
    "customer_order_counts['is_repurchase'] = (customer_order_counts['order_count'] >= 2).astype(int)"
   ]
  },
  {
   "cell_type": "code",
   "execution_count": 8,
   "id": "d461b037",
   "metadata": {},
   "outputs": [],
   "source": [
    "# astype() 是一個函數，用來將資料轉換成指定的資料型別"
   ]
  },
  {
   "cell_type": "code",
   "execution_count": 9,
   "id": "a59dd607",
   "metadata": {},
   "outputs": [
    {
     "data": {
      "application/vnd.microsoft.datawrangler.viewer.v0+json": {
       "columns": [
        {
         "name": "index",
         "rawType": "int64",
         "type": "integer"
        },
        {
         "name": "customer_unique_id",
         "rawType": "object",
         "type": "string"
        },
        {
         "name": "order_count",
         "rawType": "int64",
         "type": "integer"
        },
        {
         "name": "is_repurchase",
         "rawType": "int32",
         "type": "integer"
        }
       ],
       "conversionMethod": "pd.DataFrame",
       "ref": "79010869-73d1-4086-ac0b-96148a399e7e",
       "rows": [
        [
         "0",
         "0000366f3b9a7992bf8c76cfdf3221e2",
         "1",
         "0"
        ],
        [
         "1",
         "0000b849f77a49e4a4ce2b2a4ca5be3f",
         "1",
         "0"
        ],
        [
         "2",
         "0000f46a3911fa3c0805444483337064",
         "1",
         "0"
        ],
        [
         "3",
         "0000f6ccb0745a6a4b88665a16c9f078",
         "1",
         "0"
        ],
        [
         "4",
         "0004aac84e0df4da2b147fca70cf8255",
         "1",
         "0"
        ]
       ],
       "shape": {
        "columns": 3,
        "rows": 5
       }
      },
      "text/html": [
       "<div>\n",
       "<style scoped>\n",
       "    .dataframe tbody tr th:only-of-type {\n",
       "        vertical-align: middle;\n",
       "    }\n",
       "\n",
       "    .dataframe tbody tr th {\n",
       "        vertical-align: top;\n",
       "    }\n",
       "\n",
       "    .dataframe thead th {\n",
       "        text-align: right;\n",
       "    }\n",
       "</style>\n",
       "<table border=\"1\" class=\"dataframe\">\n",
       "  <thead>\n",
       "    <tr style=\"text-align: right;\">\n",
       "      <th></th>\n",
       "      <th>customer_unique_id</th>\n",
       "      <th>order_count</th>\n",
       "      <th>is_repurchase</th>\n",
       "    </tr>\n",
       "  </thead>\n",
       "  <tbody>\n",
       "    <tr>\n",
       "      <th>0</th>\n",
       "      <td>0000366f3b9a7992bf8c76cfdf3221e2</td>\n",
       "      <td>1</td>\n",
       "      <td>0</td>\n",
       "    </tr>\n",
       "    <tr>\n",
       "      <th>1</th>\n",
       "      <td>0000b849f77a49e4a4ce2b2a4ca5be3f</td>\n",
       "      <td>1</td>\n",
       "      <td>0</td>\n",
       "    </tr>\n",
       "    <tr>\n",
       "      <th>2</th>\n",
       "      <td>0000f46a3911fa3c0805444483337064</td>\n",
       "      <td>1</td>\n",
       "      <td>0</td>\n",
       "    </tr>\n",
       "    <tr>\n",
       "      <th>3</th>\n",
       "      <td>0000f6ccb0745a6a4b88665a16c9f078</td>\n",
       "      <td>1</td>\n",
       "      <td>0</td>\n",
       "    </tr>\n",
       "    <tr>\n",
       "      <th>4</th>\n",
       "      <td>0004aac84e0df4da2b147fca70cf8255</td>\n",
       "      <td>1</td>\n",
       "      <td>0</td>\n",
       "    </tr>\n",
       "  </tbody>\n",
       "</table>\n",
       "</div>"
      ],
      "text/plain": [
       "                 customer_unique_id  order_count  is_repurchase\n",
       "0  0000366f3b9a7992bf8c76cfdf3221e2            1              0\n",
       "1  0000b849f77a49e4a4ce2b2a4ca5be3f            1              0\n",
       "2  0000f46a3911fa3c0805444483337064            1              0\n",
       "3  0000f6ccb0745a6a4b88665a16c9f078            1              0\n",
       "4  0004aac84e0df4da2b147fca70cf8255            1              0"
      ]
     },
     "execution_count": 9,
     "metadata": {},
     "output_type": "execute_result"
    }
   ],
   "source": [
    "customer_order_counts.head()"
   ]
  },
  {
   "cell_type": "markdown",
   "id": "89e2d7d7",
   "metadata": {},
   "source": [
    "##### **2. 特徵工程**"
   ]
  },
  {
   "cell_type": "markdown",
   "id": "13e42bd3",
   "metadata": {},
   "source": [
    "📌 **RFM** "
   ]
  },
  {
   "cell_type": "markdown",
   "id": "c3532bd9",
   "metadata": {},
   "source": [
    "Recency (假設與整個資料集最後一次購買的天數差距)"
   ]
  },
  {
   "cell_type": "code",
   "execution_count": 10,
   "id": "2f168b70",
   "metadata": {},
   "outputs": [],
   "source": [
    "orders['order_purchase_timestamp'] = pd.to_datetime(orders['order_purchase_timestamp'])\n",
    "last_order_date = orders['order_purchase_timestamp'].max() # 資料中最後一筆訂單的購買日期\n",
    "\n",
    "recency_df = orders.groupby('customer_unique_id')['order_purchase_timestamp'].max().reset_index()\n",
    "recency_df['recency_days'] = (last_order_date - recency_df['order_purchase_timestamp']).dt.days\n",
    "recency_df.drop(columns='order_purchase_timestamp', inplace=True)\n"
   ]
  },
  {
   "cell_type": "code",
   "execution_count": 11,
   "id": "c678e14e",
   "metadata": {},
   "outputs": [],
   "source": [
    "# to_datetime() 是一個函數，用來將字串轉換成日期時間格式\n",
    "# max() 是一個函數，用來計算每個客戶的最後訂單日期\n",
    "# dt 是一個屬性，用來存取日期時間格式的屬性\n",
    "# days 是一個屬性，用來計算日期時間格式的天數差\n",
    "# drop() 是一個函數，用來刪除指定的欄位\n",
    "# inplace 是一個參數，用來指定是否在原始資料上進行修改"
   ]
  },
  {
   "cell_type": "markdown",
   "id": "3d0d853f",
   "metadata": {},
   "source": [
    "Frequency（購買頻率）"
   ]
  },
  {
   "cell_type": "code",
   "execution_count": 12,
   "id": "52e27ed4",
   "metadata": {},
   "outputs": [],
   "source": [
    "# customer_order_counts['order_count']"
   ]
  },
  {
   "cell_type": "markdown",
   "id": "3f72d6e4",
   "metadata": {},
   "source": [
    "Monetary（平均消費金額）"
   ]
  },
  {
   "cell_type": "code",
   "execution_count": 13,
   "id": "4ff49746",
   "metadata": {},
   "outputs": [],
   "source": [
    "order_items['price_total'] = order_items['price'] + order_items['freight_value'] # freight_value 運費\n",
    "order_values = order_items.groupby('order_id')['price_total'].sum().reset_index()\n",
    "orders_monetary = orders[['order_id', 'customer_unique_id']].merge(order_values, on='order_id')\n",
    "\n",
    "monetary_df = orders_monetary.groupby('customer_unique_id')['price_total'].mean().reset_index()\n",
    "monetary_df.columns = ['customer_unique_id', 'monetary_avg']"
   ]
  },
  {
   "cell_type": "code",
   "execution_count": 14,
   "id": "e1cf3479",
   "metadata": {},
   "outputs": [],
   "source": [
    "# sum() 是一個函數，用來計算每個訂單的總金額\n",
    "# mean() 是一個函數，用來計算每個客戶的平均訂單金額"
   ]
  },
  {
   "cell_type": "markdown",
   "id": "598ac790",
   "metadata": {},
   "source": [
    "📌 **付款方式**"
   ]
  },
  {
   "cell_type": "code",
   "execution_count": 15,
   "id": "7320717f",
   "metadata": {},
   "outputs": [],
   "source": [
    "payments_mode = payments.groupby(['order_id', 'payment_type']).size().unstack(fill_value=0).reset_index() # One-Hot Encoding\n",
    "orders_payments = orders[['order_id', 'customer_unique_id']].merge(payments_mode, on='order_id')\n",
    "payment_summary = orders_payments.groupby('customer_unique_id').sum().reset_index()"
   ]
  },
  {
   "cell_type": "code",
   "execution_count": 16,
   "id": "9a4d10e5",
   "metadata": {},
   "outputs": [],
   "source": [
    "# size() 是一個函數，用來計算每個訂單的付款方式數量\n",
    "# unstack() 是一個函數，用來將資料轉換成寬格式 \n",
    "# 寬格式指資料表格中，每一列代表一個觀察單位，而不同欄位則代表該單位在不同時間點或不同變數下的觀察值。\n",
    "# fill_value 是一個參數，用來指定填入的值"
   ]
  },
  {
   "cell_type": "markdown",
   "id": "ad9ce5a0",
   "metadata": {},
   "source": [
    "📌 **客戶所屬州別**"
   ]
  },
  {
   "cell_type": "code",
   "execution_count": 17,
   "id": "8a501c46",
   "metadata": {},
   "outputs": [],
   "source": [
    "customer_states = customers[['customer_unique_id', 'customer_state']]"
   ]
  },
  {
   "cell_type": "markdown",
   "id": "fecf0d0b",
   "metadata": {},
   "source": [
    "合併所有特徵與目標變數"
   ]
  },
  {
   "cell_type": "code",
   "execution_count": 18,
   "id": "2c10b40a",
   "metadata": {},
   "outputs": [],
   "source": [
    "# 合併所有資料表\n",
    "features = customer_order_counts.merge(recency_df, on='customer_unique_id', how='left')\n",
    "features = features.merge(monetary_df, on='customer_unique_id', how='left')\n",
    "features = features.merge(payment_summary, on='customer_unique_id', how='left')\n",
    "features = features.merge(customer_states, on='customer_unique_id', how='left')\n",
    "\n",
    "# 填補缺失值\n",
    "features.fillna(0, inplace=True)"
   ]
  },
  {
   "cell_type": "code",
   "execution_count": 19,
   "id": "bcc3b243",
   "metadata": {},
   "outputs": [],
   "source": [
    "# fillna() 是一個函數，用來填補缺失值\n",
    "# inplace 是一個參數，用來指定是否在原始資料上進行修改"
   ]
  },
  {
   "cell_type": "code",
   "execution_count": 20,
   "id": "5fa4b779",
   "metadata": {},
   "outputs": [
    {
     "data": {
      "application/vnd.microsoft.datawrangler.viewer.v0+json": {
       "columns": [
        {
         "name": "index",
         "rawType": "int64",
         "type": "integer"
        },
        {
         "name": "customer_unique_id",
         "rawType": "object",
         "type": "string"
        },
        {
         "name": "order_count",
         "rawType": "int64",
         "type": "integer"
        },
        {
         "name": "is_repurchase",
         "rawType": "int32",
         "type": "integer"
        },
        {
         "name": "recency_days",
         "rawType": "int64",
         "type": "integer"
        },
        {
         "name": "monetary_avg",
         "rawType": "float64",
         "type": "float"
        },
        {
         "name": "order_id",
         "rawType": "object",
         "type": "string"
        },
        {
         "name": "boleto",
         "rawType": "float64",
         "type": "float"
        },
        {
         "name": "credit_card",
         "rawType": "float64",
         "type": "float"
        },
        {
         "name": "debit_card",
         "rawType": "float64",
         "type": "float"
        },
        {
         "name": "not_defined",
         "rawType": "float64",
         "type": "float"
        },
        {
         "name": "voucher",
         "rawType": "float64",
         "type": "float"
        },
        {
         "name": "customer_state",
         "rawType": "object",
         "type": "string"
        }
       ],
       "conversionMethod": "pd.DataFrame",
       "ref": "316b5227-9e4f-4204-a08d-a3c63a461e58",
       "rows": [
        [
         "0",
         "0000366f3b9a7992bf8c76cfdf3221e2",
         "1",
         "0",
         "160",
         "141.9",
         "e22acc9c116caa3f2b7121bbb380d08e",
         "0.0",
         "1.0",
         "0.0",
         "0.0",
         "0.0",
         "SP"
        ],
        [
         "1",
         "0000b849f77a49e4a4ce2b2a4ca5be3f",
         "1",
         "0",
         "163",
         "27.189999999999998",
         "3594e05a005ac4d06a72673270ef9ec9",
         "0.0",
         "1.0",
         "0.0",
         "0.0",
         "0.0",
         "SP"
        ],
        [
         "2",
         "0000f46a3911fa3c0805444483337064",
         "1",
         "0",
         "585",
         "86.22",
         "b33ec3b699337181488304f362a6b734",
         "0.0",
         "1.0",
         "0.0",
         "0.0",
         "0.0",
         "SC"
        ],
        [
         "3",
         "0000f6ccb0745a6a4b88665a16c9f078",
         "1",
         "0",
         "369",
         "43.62",
         "41272756ecddd9a9ed0180413cc22fb6",
         "0.0",
         "1.0",
         "0.0",
         "0.0",
         "0.0",
         "PA"
        ],
        [
         "4",
         "0004aac84e0df4da2b147fca70cf8255",
         "1",
         "0",
         "336",
         "196.89",
         "d957021f1127559cd947b62533f484f7",
         "0.0",
         "1.0",
         "0.0",
         "0.0",
         "0.0",
         "SP"
        ]
       ],
       "shape": {
        "columns": 12,
        "rows": 5
       }
      },
      "text/html": [
       "<div>\n",
       "<style scoped>\n",
       "    .dataframe tbody tr th:only-of-type {\n",
       "        vertical-align: middle;\n",
       "    }\n",
       "\n",
       "    .dataframe tbody tr th {\n",
       "        vertical-align: top;\n",
       "    }\n",
       "\n",
       "    .dataframe thead th {\n",
       "        text-align: right;\n",
       "    }\n",
       "</style>\n",
       "<table border=\"1\" class=\"dataframe\">\n",
       "  <thead>\n",
       "    <tr style=\"text-align: right;\">\n",
       "      <th></th>\n",
       "      <th>customer_unique_id</th>\n",
       "      <th>order_count</th>\n",
       "      <th>is_repurchase</th>\n",
       "      <th>recency_days</th>\n",
       "      <th>monetary_avg</th>\n",
       "      <th>order_id</th>\n",
       "      <th>boleto</th>\n",
       "      <th>credit_card</th>\n",
       "      <th>debit_card</th>\n",
       "      <th>not_defined</th>\n",
       "      <th>voucher</th>\n",
       "      <th>customer_state</th>\n",
       "    </tr>\n",
       "  </thead>\n",
       "  <tbody>\n",
       "    <tr>\n",
       "      <th>0</th>\n",
       "      <td>0000366f3b9a7992bf8c76cfdf3221e2</td>\n",
       "      <td>1</td>\n",
       "      <td>0</td>\n",
       "      <td>160</td>\n",
       "      <td>141.90</td>\n",
       "      <td>e22acc9c116caa3f2b7121bbb380d08e</td>\n",
       "      <td>0.0</td>\n",
       "      <td>1.0</td>\n",
       "      <td>0.0</td>\n",
       "      <td>0.0</td>\n",
       "      <td>0.0</td>\n",
       "      <td>SP</td>\n",
       "    </tr>\n",
       "    <tr>\n",
       "      <th>1</th>\n",
       "      <td>0000b849f77a49e4a4ce2b2a4ca5be3f</td>\n",
       "      <td>1</td>\n",
       "      <td>0</td>\n",
       "      <td>163</td>\n",
       "      <td>27.19</td>\n",
       "      <td>3594e05a005ac4d06a72673270ef9ec9</td>\n",
       "      <td>0.0</td>\n",
       "      <td>1.0</td>\n",
       "      <td>0.0</td>\n",
       "      <td>0.0</td>\n",
       "      <td>0.0</td>\n",
       "      <td>SP</td>\n",
       "    </tr>\n",
       "    <tr>\n",
       "      <th>2</th>\n",
       "      <td>0000f46a3911fa3c0805444483337064</td>\n",
       "      <td>1</td>\n",
       "      <td>0</td>\n",
       "      <td>585</td>\n",
       "      <td>86.22</td>\n",
       "      <td>b33ec3b699337181488304f362a6b734</td>\n",
       "      <td>0.0</td>\n",
       "      <td>1.0</td>\n",
       "      <td>0.0</td>\n",
       "      <td>0.0</td>\n",
       "      <td>0.0</td>\n",
       "      <td>SC</td>\n",
       "    </tr>\n",
       "    <tr>\n",
       "      <th>3</th>\n",
       "      <td>0000f6ccb0745a6a4b88665a16c9f078</td>\n",
       "      <td>1</td>\n",
       "      <td>0</td>\n",
       "      <td>369</td>\n",
       "      <td>43.62</td>\n",
       "      <td>41272756ecddd9a9ed0180413cc22fb6</td>\n",
       "      <td>0.0</td>\n",
       "      <td>1.0</td>\n",
       "      <td>0.0</td>\n",
       "      <td>0.0</td>\n",
       "      <td>0.0</td>\n",
       "      <td>PA</td>\n",
       "    </tr>\n",
       "    <tr>\n",
       "      <th>4</th>\n",
       "      <td>0004aac84e0df4da2b147fca70cf8255</td>\n",
       "      <td>1</td>\n",
       "      <td>0</td>\n",
       "      <td>336</td>\n",
       "      <td>196.89</td>\n",
       "      <td>d957021f1127559cd947b62533f484f7</td>\n",
       "      <td>0.0</td>\n",
       "      <td>1.0</td>\n",
       "      <td>0.0</td>\n",
       "      <td>0.0</td>\n",
       "      <td>0.0</td>\n",
       "      <td>SP</td>\n",
       "    </tr>\n",
       "  </tbody>\n",
       "</table>\n",
       "</div>"
      ],
      "text/plain": [
       "                 customer_unique_id  order_count  is_repurchase  recency_days  \\\n",
       "0  0000366f3b9a7992bf8c76cfdf3221e2            1              0           160   \n",
       "1  0000b849f77a49e4a4ce2b2a4ca5be3f            1              0           163   \n",
       "2  0000f46a3911fa3c0805444483337064            1              0           585   \n",
       "3  0000f6ccb0745a6a4b88665a16c9f078            1              0           369   \n",
       "4  0004aac84e0df4da2b147fca70cf8255            1              0           336   \n",
       "\n",
       "   monetary_avg                          order_id  boleto  credit_card  \\\n",
       "0        141.90  e22acc9c116caa3f2b7121bbb380d08e     0.0          1.0   \n",
       "1         27.19  3594e05a005ac4d06a72673270ef9ec9     0.0          1.0   \n",
       "2         86.22  b33ec3b699337181488304f362a6b734     0.0          1.0   \n",
       "3         43.62  41272756ecddd9a9ed0180413cc22fb6     0.0          1.0   \n",
       "4        196.89  d957021f1127559cd947b62533f484f7     0.0          1.0   \n",
       "\n",
       "   debit_card  not_defined  voucher customer_state  \n",
       "0         0.0          0.0      0.0             SP  \n",
       "1         0.0          0.0      0.0             SP  \n",
       "2         0.0          0.0      0.0             SC  \n",
       "3         0.0          0.0      0.0             PA  \n",
       "4         0.0          0.0      0.0             SP  "
      ]
     },
     "execution_count": 20,
     "metadata": {},
     "output_type": "execute_result"
    }
   ],
   "source": [
    "features.head()"
   ]
  },
  {
   "cell_type": "markdown",
   "id": "46ed5199",
   "metadata": {},
   "source": [
    "#### **3. 漏斗分析**"
   ]
  },
  {
   "cell_type": "markdown",
   "id": "372ecaf5",
   "metadata": {},
   "source": [
    "建立漏斗各階段人數"
   ]
  },
  {
   "cell_type": "code",
   "execution_count": 21,
   "id": "aa97ab7d",
   "metadata": {},
   "outputs": [
    {
     "name": "stdout",
     "output_type": "stream",
     "text": [
      "首次購買客戶數: 96096\n",
      "再購客戶數: 2997\n"
     ]
    }
   ],
   "source": [
    "# 計算所有曾購買過的客戶數\n",
    "total_customers = features['customer_unique_id'].nunique()\n",
    "\n",
    "# 計算有再購的客戶數\n",
    "repurchase_customers = features[features['is_repurchase'] == 1]['customer_unique_id'].nunique()\n",
    "\n",
    "print(f\"首次購買客戶數: {total_customers}\")\n",
    "print(f\"再購客戶數: {repurchase_customers}\")"
   ]
  },
  {
   "cell_type": "code",
   "execution_count": 22,
   "id": "f6b0f487",
   "metadata": {},
   "outputs": [],
   "source": [
    "# nunique() 是一個函數，用來計算唯一值的數量"
   ]
  },
  {
   "cell_type": "markdown",
   "id": "a6b9d9a3",
   "metadata": {},
   "source": [
    "計算轉換率"
   ]
  },
  {
   "cell_type": "code",
   "execution_count": 23,
   "id": "440d907e",
   "metadata": {},
   "outputs": [
    {
     "name": "stdout",
     "output_type": "stream",
     "text": [
      "再購轉換率：3.12%\n"
     ]
    }
   ],
   "source": [
    "conversion_rate = repurchase_customers / total_customers * 100\n",
    "print(f\"再購轉換率：{conversion_rate:.2f}%\")"
   ]
  },
  {
   "cell_type": "code",
   "execution_count": 24,
   "id": "d3bd413e",
   "metadata": {},
   "outputs": [],
   "source": [
    "# .2f表示保留兩位小數"
   ]
  },
  {
   "cell_type": "markdown",
   "id": "52097b19",
   "metadata": {},
   "source": [
    "視覺化漏斗圖"
   ]
  },
  {
   "cell_type": "code",
   "execution_count": 25,
   "id": "70ab4e75",
   "metadata": {},
   "outputs": [
    {
     "data": {
      "image/png": "[encoded data removed]",
      "text/plain": [
       "<Figure size 600x400 with 1 Axes>"
      ]
     },
     "metadata": {},
     "output_type": "display_data"
    }
   ],
   "source": [
    "import matplotlib.pyplot as plt\n",
    "\n",
    "# 漏斗階段與對應數值\n",
    "stages = ['First Purchase', 'Repurchase']\n",
    "values = [total_customers, repurchase_customers]\n",
    "\n",
    "# 繪製水平長條圖\n",
    "plt.figure(figsize=(6, 4))\n",
    "bars = plt.barh(stages, values, color=['skyblue', 'steelblue'])\n",
    "\n",
    "plt.xlabel('Number of Customers')\n",
    "plt.title('Repurchase Funnel Analysis')\n",
    "\n",
    "# 反轉 Y 軸，符合漏斗從上到下的視覺效果\n",
    "plt.gca().invert_yaxis()\n",
    "\n",
    "# 在長條上標註數值與百分比\n",
    "for bar, value in zip(bars, values):\n",
    "    percent = value / total_customers * 100\n",
    "    plt.text(value, bar.get_y() + bar.get_height() / 2, \n",
    "             f'{value} ({percent:.2f}%)', \n",
    "             va='center', ha='left', fontsize=10)\n",
    "\n",
    "plt.tight_layout()\n",
    "plt.show()\n"
   ]
  },
  {
   "cell_type": "code",
   "execution_count": 26,
   "id": "d6ee04df",
   "metadata": {},
   "outputs": [
    {
     "data": {
      "application/vnd.plotly.v1+json": {
       "config": {
        "plotlyServerURL": "https://plot.ly"
       },
       "data": [
        {
         "marker": {
          "color": [
           "skyblue",
           "steelblue"
          ]
         },
         "textinfo": "value+percent initial",
         "type": "funnel",
         "x": [
          96096,
          2997
         ],
         "y": [
          "First Purchase",
          "Repurchase"
         ]
        }
       ],
       "layout": {
        "font": {
         "family": "Arial",
         "size": 14
        },
        "height": 400,
        "template": {
         "data": {
          "bar": [
           {
            "error_x": {
             "color": "#2a3f5f"
            },
            "error_y": {
             "color": "#2a3f5f"
            },
            "marker": {
             "line": {
              "color": "#E5ECF6",
              "width": 0.5
             },
             "pattern": {
              "fillmode": "overlay",
              "size": 10,
              "solidity": 0.2
             }
            },
            "type": "bar"
           }
          ],
          "barpolar": [
           {
            "marker": {
             "line": {
              "color": "#E5ECF6",
              "width": 0.5
             },
             "pattern": {
              "fillmode": "overlay",
              "size": 10,
              "solidity": 0.2
             }
            },
            "type": "barpolar"
           }
          ],
          "carpet": [
           {
            "aaxis": {
             "endlinecolor": "#2a3f5f",
             "gridcolor": "white",
             "linecolor": "white",
             "minorgridcolor": "white",
             "startlinecolor": "#2a3f5f"
            },
            "baxis": {
             "endlinecolor": "#2a3f5f",
             "gridcolor": "white",
             "linecolor": "white",
             "minorgridcolor": "white",
             "startlinecolor": "#2a3f5f"
            },
            "type": "carpet"
           }
          ],
          "choropleth": [
           {
            "colorbar": {
             "outlinewidth": 0,
             "ticks": ""
            },
            "type": "choropleth"
           }
          ],
          "contour": [
           {
            "colorbar": {
             "outlinewidth": 0,
             "ticks": ""
            },
            "colorscale": [
             [
              0,
              "#0d0887"
             ],
             [
              0.1111111111111111,
              "#46039f"
             ],
             [
              0.2222222222222222,
              "#7201a8"
             ],
             [
              0.3333333333333333,
              "#9c179e"
             ],
             [
              0.4444444444444444,
              "#bd3786"
             ],
             [
              0.5555555555555556,
              "#d8576b"
             ],
             [
              0.6666666666666666,
              "#ed7953"
             ],
             [
              0.7777777777777778,
              "#fb9f3a"
             ],
             [
              0.8888888888888888,
              "#fdca26"
             ],
             [
              1,
              "#f0f921"
             ]
            ],
            "type": "contour"
           }
          ],
          "contourcarpet": [
           {
            "colorbar": {
             "outlinewidth": 0,
             "ticks": ""
            },
            "type": "contourcarpet"
           }
          ],
          "heatmap": [
           {
            "colorbar": {
             "outlinewidth": 0,
             "ticks": ""
            },
            "colorscale": [
             [
              0,
              "#0d0887"
             ],
             [
              0.1111111111111111,
              "#46039f"
             ],
             [
              0.2222222222222222,
              "#7201a8"
             ],
             [
              0.3333333333333333,
              "#9c179e"
             ],
             [
              0.4444444444444444,
              "#bd3786"
             ],
             [
              0.5555555555555556,
              "#d8576b"
             ],
             [
              0.6666666666666666,
              "#ed7953"
             ],
             [
              0.7777777777777778,
              "#fb9f3a"
             ],
             [
              0.8888888888888888,
              "#fdca26"
             ],
             [
              1,
              "#f0f921"
             ]
            ],
            "type": "heatmap"
           }
          ],
          "heatmapgl": [
           {
            "colorbar": {
             "outlinewidth": 0,
             "ticks": ""
            },
            "colorscale": [
             [
              0,
              "#0d0887"
             ],
             [
              0.1111111111111111,
              "#46039f"
             ],
             [
              0.2222222222222222,
              "#7201a8"
             ],
             [
              0.3333333333333333,
              "#9c179e"
             ],
             [
              0.4444444444444444,
              "#bd3786"
             ],
             [
              0.5555555555555556,
              "#d8576b"
             ],
             [
              0.6666666666666666,
              "#ed7953"
             ],
             [
              0.7777777777777778,
              "#fb9f3a"
             ],
             [
              0.8888888888888888,
              "#fdca26"
             ],
             [
              1,
              "#f0f921"
             ]
            ],
            "type": "heatmapgl"
           }
          ],
          "histogram": [
           {
            "marker": {
             "pattern": {
              "fillmode": "overlay",
              "size": 10,
              "solidity": 0.2
             }
            },
            "type": "histogram"
           }
          ],
          "histogram2d": [
           {
            "colorbar": {
             "outlinewidth": 0,
             "ticks": ""
            },
            "colorscale": [
             [
              0,
              "#0d0887"
             ],
             [
              0.1111111111111111,
              "#46039f"
             ],
             [
              0.2222222222222222,
              "#7201a8"
             ],
             [
              0.3333333333333333,
              "#9c179e"
             ],
             [
              0.4444444444444444,
              "#bd3786"
             ],
             [
              0.5555555555555556,
              "#d8576b"
             ],
             [
              0.6666666666666666,
              "#ed7953"
             ],
             [
              0.7777777777777778,
              "#fb9f3a"
             ],
             [
              0.8888888888888888,
              "#fdca26"
             ],
             [
              1,
              "#f0f921"
             ]
            ],
            "type": "histogram2d"
           }
          ],
          "histogram2dcontour": [
           {
            "colorbar": {
             "outlinewidth": 0,
             "ticks": ""
            },
            "colorscale": [
             [
              0,
              "#0d0887"
             ],
             [
              0.1111111111111111,
              "#46039f"
             ],
             [
              0.2222222222222222,
              "#7201a8"
             ],
             [
              0.3333333333333333,
              "#9c179e"
             ],
             [
              0.4444444444444444,
              "#bd3786"
             ],
             [
              0.5555555555555556,
              "#d8576b"
             ],
             [
              0.6666666666666666,
              "#ed7953"
             ],
             [
              0.7777777777777778,
              "#fb9f3a"
             ],
             [
              0.8888888888888888,
              "#fdca26"
             ],
             [
              1,
              "#f0f921"
             ]
            ],
            "type": "histogram2dcontour"
           }
          ],
          "mesh3d": [
           {
            "colorbar": {
             "outlinewidth": 0,
             "ticks": ""
            },
            "type": "mesh3d"
           }
          ],
          "parcoords": [
           {
            "line": {
             "colorbar": {
              "outlinewidth": 0,
              "ticks": ""
             }
            },
            "type": "parcoords"
           }
          ],
          "pie": [
           {
            "automargin": true,
            "type": "pie"
           }
          ],
          "scatter": [
           {
            "fillpattern": {
             "fillmode": "overlay",
             "size": 10,
             "solidity": 0.2
            },
            "type": "scatter"
           }
          ],
          "scatter3d": [
           {
            "line": {
             "colorbar": {
              "outlinewidth": 0,
              "ticks": ""
             }
            },
            "marker": {
             "colorbar": {
              "outlinewidth": 0,
              "ticks": ""
             }
            },
            "type": "scatter3d"
           }
          ],
          "scattercarpet": [
           {
            "marker": {
             "colorbar": {
              "outlinewidth": 0,
              "ticks": ""
             }
            },
            "type": "scattercarpet"
           }
          ],
          "scattergeo": [
           {
            "marker": {
             "colorbar": {
              "outlinewidth": 0,
              "ticks": ""
             }
            },
            "type": "scattergeo"
           }
          ],
          "scattergl": [
           {
            "marker": {
             "colorbar": {
              "outlinewidth": 0,
              "ticks": ""
             }
            },
            "type": "scattergl"
           }
          ],
          "scattermapbox": [
           {
            "marker": {
             "colorbar": {
              "outlinewidth": 0,
              "ticks": ""
             }
            },
            "type": "scattermapbox"
           }
          ],
          "scatterpolar": [
           {
            "marker": {
             "colorbar": {
              "outlinewidth": 0,
              "ticks": ""
             }
            },
            "type": "scatterpolar"
           }
          ],
          "scatterpolargl": [
           {
            "marker": {
             "colorbar": {
              "outlinewidth": 0,
              "ticks": ""
             }
            },
            "type": "scatterpolargl"
           }
          ],
          "scatterternary": [
           {
            "marker": {
             "colorbar": {
              "outlinewidth": 0,
              "ticks": ""
             }
            },
            "type": "scatterternary"
           }
          ],
          "surface": [
           {
            "colorbar": {
             "outlinewidth": 0,
             "ticks": ""
            },
            "colorscale": [
             [
              0,
              "#0d0887"
             ],
             [
              0.1111111111111111,
              "#46039f"
             ],
             [
              0.2222222222222222,
              "#7201a8"
             ],
             [
              0.3333333333333333,
              "#9c179e"
             ],
             [
              0.4444444444444444,
              "#bd3786"
             ],
             [
              0.5555555555555556,
              "#d8576b"
             ],
             [
              0.6666666666666666,
              "#ed7953"
             ],
             [
              0.7777777777777778,
              "#fb9f3a"
             ],
             [
              0.8888888888888888,
              "#fdca26"
             ],
             [
              1,
              "#f0f921"
             ]
            ],
            "type": "surface"
           }
          ],
          "table": [
           {
            "cells": {
             "fill": {
              "color": "#EBF0F8"
             },
             "line": {
              "color": "white"
             }
            },
            "header": {
             "fill": {
              "color": "#C8D4E3"
             },
             "line": {
              "color": "white"
             }
            },
            "type": "table"
           }
          ]
         },
         "layout": {
          "annotationdefaults": {
           "arrowcolor": "#2a3f5f",
           "arrowhead": 0,
           "arrowwidth": 1
          },
          "autotypenumbers": "strict",
          "coloraxis": {
           "colorbar": {
            "outlinewidth": 0,
            "ticks": ""
           }
          },
          "colorscale": {
           "diverging": [
            [
             0,
             "#8e0152"
            ],
            [
             0.1,
             "#c51b7d"
            ],
            [
             0.2,
             "#de77ae"
            ],
            [
             0.3,
             "#f1b6da"
            ],
            [
             0.4,
             "#fde0ef"
            ],
            [
             0.5,
             "#f7f7f7"
            ],
            [
             0.6,
             "#e6f5d0"
            ],
            [
             0.7,
             "#b8e186"
            ],
            [
             0.8,
             "#7fbc41"
            ],
            [
             0.9,
             "#4d9221"
            ],
            [
             1,
             "#276419"
            ]
           ],
           "sequential": [
            [
             0,
             "#0d0887"
            ],
            [
             0.1111111111111111,
             "#46039f"
            ],
            [
             0.2222222222222222,
             "#7201a8"
            ],
            [
             0.3333333333333333,
             "#9c179e"
            ],
            [
             0.4444444444444444,
             "#bd3786"
            ],
            [
             0.5555555555555556,
             "#d8576b"
            ],
            [
             0.6666666666666666,
             "#ed7953"
            ],
            [
             0.7777777777777778,
             "#fb9f3a"
            ],
            [
             0.8888888888888888,
             "#fdca26"
            ],
            [
             1,
             "#f0f921"
            ]
           ],
           "sequentialminus": [
            [
             0,
             "#0d0887"
            ],
            [
             0.1111111111111111,
             "#46039f"
            ],
            [
             0.2222222222222222,
             "#7201a8"
            ],
            [
             0.3333333333333333,
             "#9c179e"
            ],
            [
             0.4444444444444444,
             "#bd3786"
            ],
            [
             0.5555555555555556,
             "#d8576b"
            ],
            [
             0.6666666666666666,
             "#ed7953"
            ],
            [
             0.7777777777777778,
             "#fb9f3a"
            ],
            [
             0.8888888888888888,
             "#fdca26"
            ],
            [
             1,
             "#f0f921"
            ]
           ]
          },
          "colorway": [
           "#636efa",
           "#EF553B",
           "#00cc96",
           "#ab63fa",
           "#FFA15A",
           "#19d3f3",
           "#FF6692",
           "#B6E880",
           "#FF97FF",
           "#FECB52"
          ],
          "font": {
           "color": "#2a3f5f"
          },
          "geo": {
           "bgcolor": "white",
           "lakecolor": "white",
           "landcolor": "#E5ECF6",
           "showlakes": true,
           "showland": true,
           "subunitcolor": "white"
          },
          "hoverlabel": {
           "align": "left"
          },
          "hovermode": "closest",
          "mapbox": {
           "style": "light"
          },
          "paper_bgcolor": "white",
          "plot_bgcolor": "#E5ECF6",
          "polar": {
           "angularaxis": {
            "gridcolor": "white",
            "linecolor": "white",
            "ticks": ""
           },
           "bgcolor": "#E5ECF6",
           "radialaxis": {
            "gridcolor": "white",
            "linecolor": "white",
            "ticks": ""
           }
          },
          "scene": {
           "xaxis": {
            "backgroundcolor": "#E5ECF6",
            "gridcolor": "white",
            "gridwidth": 2,
            "linecolor": "white",
            "showbackground": true,
            "ticks": "",
            "zerolinecolor": "white"
           },
           "yaxis": {
            "backgroundcolor": "#E5ECF6",
            "gridcolor": "white",
            "gridwidth": 2,
            "linecolor": "white",
            "showbackground": true,
            "ticks": "",
            "zerolinecolor": "white"
           },
           "zaxis": {
            "backgroundcolor": "#E5ECF6",
            "gridcolor": "white",
            "gridwidth": 2,
            "linecolor": "white",
            "showbackground": true,
            "ticks": "",
            "zerolinecolor": "white"
           }
          },
          "shapedefaults": {
           "line": {
            "color": "#2a3f5f"
           }
          },
          "ternary": {
           "aaxis": {
            "gridcolor": "white",
            "linecolor": "white",
            "ticks": ""
           },
           "baxis": {
            "gridcolor": "white",
            "linecolor": "white",
            "ticks": ""
           },
           "bgcolor": "#E5ECF6",
           "caxis": {
            "gridcolor": "white",
            "linecolor": "white",
            "ticks": ""
           }
          },
          "title": {
           "x": 0.05
          },
          "xaxis": {
           "automargin": true,
           "gridcolor": "white",
           "linecolor": "white",
           "ticks": "",
           "title": {
            "standoff": 15
           },
           "zerolinecolor": "white",
           "zerolinewidth": 2
          },
          "yaxis": {
           "automargin": true,
           "gridcolor": "white",
           "linecolor": "white",
           "ticks": "",
           "title": {
            "standoff": 15
           },
           "zerolinecolor": "white",
           "zerolinewidth": 2
          }
         }
        },
        "title": {
         "text": "Repurchase Funnel Analysis"
        },
        "width": 600
       }
      }
     },
     "metadata": {},
     "output_type": "display_data"
    }
   ],
   "source": [
    "import plotly.graph_objects as go\n",
    "\n",
    "# 漏斗階段與數值\n",
    "stages = ['First Purchase', 'Repurchase']\n",
    "values = [total_customers, repurchase_customers]\n",
    "\n",
    "# 繪製漏斗圖\n",
    "fig = go.Figure(go.Funnel(\n",
    "    y=stages,  # 漏斗階段\n",
    "    x=values,  # 對應數值\n",
    "    textinfo=\"value+percent initial\",  # 顯示人數 + 初始百分比\n",
    "    marker={\"color\": [\"skyblue\", \"steelblue\"]}  # 自訂顏色\n",
    "))\n",
    "\n",
    "fig.update_layout(\n",
    "    title=\"Repurchase Funnel Analysis\",\n",
    "    width=600,\n",
    "    height=400,\n",
    "    font={\"family\": \"Arial\", \"size\": 14}\n",
    ")\n",
    "\n",
    "fig.show()\n",
    "\n"
   ]
  },
  {
   "cell_type": "markdown",
   "id": "5820f874",
   "metadata": {},
   "source": [
    "分析不同客群再購轉換率"
   ]
  },
  {
   "cell_type": "markdown",
   "id": "5927dbe1",
   "metadata": {},
   "source": [
    "- 依據州別 (customer_state) 分析"
   ]
  },
  {
   "cell_type": "code",
   "execution_count": 27,
   "id": "c06a1221",
   "metadata": {},
   "outputs": [
    {
     "name": "stdout",
     "output_type": "stream",
     "text": [
      "                repurchase_rate\n",
      "customer_state                 \n",
      "AC                     9.876543\n",
      "RO                     9.486166\n",
      "RJ                     6.979458\n",
      "MT                     6.835722\n",
      "GO                     6.633663\n"
     ]
    }
   ],
   "source": [
    "# 計算各州再購轉換率\n",
    "state_summary = features.groupby('customer_state')['is_repurchase'].agg(['count', 'sum'])\n",
    "state_summary['repurchase_rate'] = state_summary['sum'] / state_summary['count'] * 100\n",
    "state_summary = state_summary.sort_values('repurchase_rate', ascending=False)\n",
    "\n",
    "# 顯示前幾個州\n",
    "print(state_summary[['repurchase_rate']].head())\n"
   ]
  },
  {
   "cell_type": "code",
   "execution_count": 28,
   "id": "79e07f71",
   "metadata": {},
   "outputs": [],
   "source": [
    "# agg() 是一個函數，用來對分組後的資料進行多重聚合 # 計算每個州的客戶數、計算「有再購行為」的客戶數\n",
    "# sort_values() 是一個函數，用來對資料進行排序\n",
    "# ascending 是一個參數，用來指定排序的方式\n",
    "# True 代表升冪排序，False 代表降冪排序 > 由大到小排序（遞減）"
   ]
  },
  {
   "cell_type": "code",
   "execution_count": 29,
   "id": "95c3c446",
   "metadata": {},
   "outputs": [
    {
     "data": {
      "image/png": "[encoded data removed]",
      "text/plain": [
       "<Figure size 1000x500 with 1 Axes>"
      ]
     },
     "metadata": {},
     "output_type": "display_data"
    }
   ],
   "source": [
    "# 視覺化圖表\n",
    "\n",
    "import matplotlib.pyplot as plt\n",
    "\n",
    "plt.figure(figsize=(10, 5))\n",
    "plt.bar(state_summary.index, state_summary['repurchase_rate'], color='skyblue')\n",
    "plt.xticks(rotation=45)\n",
    "plt.ylabel('Repurchase Conversion Rate (%)')\n",
    "plt.title('Repurchase Rate by State')\n",
    "plt.tight_layout()\n",
    "plt.show()"
   ]
  },
  {
   "cell_type": "markdown",
   "id": "215ed70b",
   "metadata": {},
   "source": [
    "- 依據付款方式分析"
   ]
  },
  {
   "cell_type": "code",
   "execution_count": 30,
   "id": "e9d0b9f8",
   "metadata": {},
   "outputs": [],
   "source": [
    "# 找出每位客戶主要的付款方式\n",
    "\n",
    "# 付款方式欄位（根據前面 features 製作的資料表）\n",
    "payment_columns = ['credit_card', 'boleto', 'voucher', 'debit_card']\n",
    "\n",
    "# 尋找每位客戶最常用的付款方式\n",
    "features['main_payment'] = features[payment_columns].idxmax(axis=1)"
   ]
  },
  {
   "cell_type": "code",
   "execution_count": 31,
   "id": "e1550921",
   "metadata": {},
   "outputs": [],
   "source": [
    "# idmax() 是一個函數，用來尋找每一行列中最大值的索引\n",
    "# axis=1 代表沿著列的方向尋找最大值 \n",
    "# axis=0 代表沿著行的方向尋找最大值"
   ]
  },
  {
   "cell_type": "code",
   "execution_count": 32,
   "id": "ce153a03",
   "metadata": {},
   "outputs": [
    {
     "name": "stdout",
     "output_type": "stream",
     "text": [
      "              repurchase_rate\n",
      "main_payment                 \n",
      "voucher              9.378238\n",
      "credit_card          6.669110\n",
      "boleto               5.276024\n",
      "debit_card           2.029770\n"
     ]
    }
   ],
   "source": [
    "# 計算再購轉換率\n",
    "\n",
    "payment_summary = features.groupby('main_payment')['is_repurchase'].agg(['count', 'sum'])\n",
    "payment_summary['repurchase_rate'] = payment_summary['sum'] / payment_summary['count'] * 100\n",
    "payment_summary = payment_summary.sort_values('repurchase_rate', ascending=False)\n",
    "\n",
    "print(payment_summary[['repurchase_rate']])"
   ]
  },
  {
   "cell_type": "code",
   "execution_count": 33,
   "id": "b51e450b",
   "metadata": {},
   "outputs": [
    {
     "data": {
      "image/png": "[encoded data removed]",
      "text/plain": [
       "<Figure size 600x400 with 1 Axes>"
      ]
     },
     "metadata": {},
     "output_type": "display_data"
    }
   ],
   "source": [
    "# 視覺化圖表\n",
    "\n",
    "plt.figure(figsize=(6, 4))\n",
    "plt.bar(payment_summary.index, payment_summary['repurchase_rate'], color='steelblue')\n",
    "plt.ylabel('Repurchase Conversion Rate (%)')\n",
    "plt.title('Repurchase Rate by Payment Method')\n",
    "plt.tight_layout()\n",
    "plt.show()"
   ]
  },
  {
   "cell_type": "markdown",
   "id": "ba31b69e",
   "metadata": {},
   "source": [
    "#### **4. 建立預測模型 (LightGBM)** "
   ]
  },
  {
   "cell_type": "markdown",
   "id": "ca3860a8",
   "metadata": {},
   "source": [
    "處理分類變數"
   ]
  },
  {
   "cell_type": "code",
   "execution_count": 34,
   "id": "3dea52f8",
   "metadata": {},
   "outputs": [],
   "source": [
    "# !pip install lightgbm\n",
    "# pip install --upgrade lightgbm"
   ]
  },
  {
   "cell_type": "code",
   "execution_count": 35,
   "id": "84cd2ffa",
   "metadata": {},
   "outputs": [],
   "source": [
    "from sklearn.model_selection import train_test_split\n",
    "\n",
    "# 根據再購率取前 10 州\n",
    "state_summary = features.groupby('customer_state')['is_repurchase'].agg(['count', 'sum'])\n",
    "state_summary['repurchase_rate'] = state_summary['sum'] / state_summary['count'] * 100\n",
    "top_states_by_rate = state_summary.sort_values('repurchase_rate', ascending=False).head(10).index\n",
    "\n",
    "\n",
    "# 將其餘州合併為 'Other'\n",
    "features['customer_state_grouped'] = features['customer_state'].apply(\n",
    "    lambda x: x if x in top_states_by_rate else 'Other'\n",
    ")\n",
    "\n",
    "# 刪除原始 customer_state 欄位\n",
    "features.drop(columns=['customer_state'], inplace=True)\n",
    "\n",
    "# 確保 One-Hot Encoding 只做一次\n",
    "if 'customer_state_grouped' in features.columns and features['customer_state_grouped'].dtype == 'object':\n",
    "    features = pd.get_dummies(features, columns=['customer_state_grouped'], drop_first=True)\n",
    "\n",
    "# 解決 main_payment 的 object 型態\n",
    "\n",
    "# 將 main_payment 缺失值處理成 'unknown'，避免 NaN 問題\n",
    "features['main_payment'] = features['main_payment'].fillna('unknown')\n",
    "\n",
    "# One-Hot Encoding main_payment 欄位\n",
    "features = pd.get_dummies(features, columns=['main_payment'], drop_first=True)\n",
    "\n",
    "# 處理付款方式次數統計欄位（變成 0/1 是否使用過）\n",
    "payment_cols = ['credit_card', 'boleto', 'voucher', 'debit_card']\n",
    "\n",
    "for col in payment_cols:\n",
    "    if col in features.columns:\n",
    "        features[col] = (features[col] > 0).astype(int)\n"
   ]
  },
  {
   "cell_type": "code",
   "execution_count": 36,
   "id": "3718a45c",
   "metadata": {},
   "outputs": [],
   "source": [
    "# apply() 是一個函數，用來對資料進行逐行或逐列的操作\n",
    "# lambda 是一個匿名函數，用來定義簡單的函數\n",
    "# .dtype() 是一個屬性，用來檢查資料的型態\n",
    "# drop_first=True 代表刪除第一個類別，避免虛擬變數陷阱\n",
    "# 虛擬變數陷阱是指在進行迴歸分析時，當有多個類別變數時，會導致多重共線性問題"
   ]
  },
  {
   "cell_type": "markdown",
   "id": "33422908",
   "metadata": {},
   "source": [
    "刪除無意義的識別欄位 "
   ]
  },
  {
   "cell_type": "code",
   "execution_count": 37,
   "id": "526eaef8",
   "metadata": {},
   "outputs": [],
   "source": [
    "drop_cols = ['customer_unique_id', 'order_id', 'is_repurchase', 'order_count', 'recency_days'] \n",
    "X = features.drop(columns=drop_cols)\n",
    "y = features['is_repurchase']\n",
    "\n",
    "# 填補缺失值（以防萬一）\n",
    "X = X.fillna(0)"
   ]
  },
  {
   "cell_type": "code",
   "execution_count": 38,
   "id": "ce18b1a2",
   "metadata": {},
   "outputs": [],
   "source": [
    "# 為了避免資料洩漏，刪除'is_repurchase', 'order_counts', 'recency_days'。回購次數多月會回購、最近一次購買時間越長越不會回購\n",
    "# 這是因為我們要預測的目標變數就是'is_repurchase'，如果在特徵中保留它，模型就會知道答案"
   ]
  },
  {
   "cell_type": "markdown",
   "id": "13aaeff3",
   "metadata": {},
   "source": [
    "切分訓練集 / 測試集"
   ]
  },
  {
   "cell_type": "code",
   "execution_count": 39,
   "id": "7ed86548",
   "metadata": {},
   "outputs": [],
   "source": [
    "# 用 customer_unique_id 做分組切分\n",
    "# 如果隨機切分資料集，同一位消費者行為可能同時出現在訓練集與測試集\n",
    "# 會造成模型「偷看未來」的資訊洩漏（Data Leakage），導致測試結果過於樂觀\n",
    "# 這樣的切分方式可以確保每位客戶只出現在訓練集或測試集中，避免資料洩漏的問題\n",
    "\n",
    "from sklearn.model_selection import GroupShuffleSplit\n",
    "\n",
    "groups = features['customer_unique_id']\n",
    "gss = GroupShuffleSplit(test_size=0.2, random_state=42)\n",
    "train_idx, test_idx = next(gss.split(X, y, groups=groups))\n",
    "\n",
    "X_train, X_test = X.iloc[train_idx], X.iloc[test_idx]\n",
    "y_train, y_test = y.iloc[train_idx], y.iloc[test_idx]"
   ]
  },
  {
   "cell_type": "code",
   "execution_count": 40,
   "id": "b3b7020a",
   "metadata": {},
   "outputs": [],
   "source": [
    "# GroupShuffleSplit 分組隨機切分器，可以根據某個「群組標籤」來切分資料集\n",
    "# test_size=0.2 → 測試集佔 20%，訓練集佔 80%\n",
    "# random_state=42 → 固定亂數種子，確保切分結果可重現\n",
    "# gss.split() 根據 groups 來切分資料，不會直接產生切分結果，而是回傳一個 generator 物件。\n",
    "# 這個 generator 可以產生「多組不同的切分索引」，每次呼叫都能產生新的切分（類似批次資料的概念）。\n",
    "# next(gss.split(X, y, groups=groups)) 表示「只要第一組切分結果就好」，不需要產生多組資料切分方案\n",
    "# 會從 generator 物件中，取出第一個產生的結果。（常見於單次實驗）\n",
    "# .iloc 根據索引位置選取資料。位置索引（0, 1, 2）。.iloc[0] → 第一筆資料\n",
    "# .loc index 標籤值。.loc[101] → 標籤是 101 的資料\n",
    "\n",
    "# 可以多次執行模型訓練與評估（類似交叉驗證）\n",
    "# for train_idx, test_idx in gss.split(X, y, groups=groups):"
   ]
  },
  {
   "cell_type": "markdown",
   "id": "00ddabb1",
   "metadata": {},
   "source": [
    "建立模型"
   ]
  },
  {
   "cell_type": "code",
   "execution_count": 41,
   "id": "21c72fd4",
   "metadata": {},
   "outputs": [],
   "source": [
    "from lightgbm import LGBMClassifier\n",
    "from sklearn.metrics import roc_auc_score, f1_score, precision_score, recall_score, classification_report\n",
    "\n",
    "model = LGBMClassifier(\n",
    "    objective='binary',\n",
    "    learning_rate=0.05,\n",
    "    num_leaves=15,             # 降低複雜度防止過擬合\n",
    "    max_depth=5,               # 控制樹的最大深度\n",
    "    n_estimators=1000,         # 提高疊代次數，搭配 early stopping 使用\n",
    "    reg_alpha=0.1,             # L1 正則化，防止過擬合\n",
    "    reg_lambda=0.1,            # L2 正則化，防止過擬合\n",
    "    class_weight='balanced',   # 自動處理資料不平衡問題\n",
    "    random_state=42\n",
    ")"
   ]
  },
  {
   "cell_type": "markdown",
   "id": "d4f6cb11",
   "metadata": {},
   "source": [
    "| 參數                        | 說明                                                   |\n",
    "| ------------------------- | ---------------------------------------------------- |\n",
    "| `objective='binary'`      | 指定這是「**二元分類問題**」，適用於 0/1 預測（如：再購 vs 未再購）。            |\n",
    "| `learning_rate=0.05`      | 學習率，控制每次樹的調整幅度，數值越小學習越慢但泛化效果通常較好。                    |\n",
    "| `num_leaves=15`           | 每棵樹的最大葉節點數，**減少模型複雜度**，防止過擬合。                        |\n",
    "| `max_depth=5`             | 限制每棵樹的最大深度，防止模型學習過多細節（過擬合）。                          |\n",
    "| `n_estimators=1000`       | 最多訓練 1000 棵樹，建議搭配 `early_stopping_rounds` 使用來避免浪費資源。 |\n",
    "| `reg_alpha=0.1`           | **L1 正則化**（讓部分特徵權重變成 0，達到特徵選擇的效果），防止過擬合。             |\n",
    "| `reg_lambda=0.1`          | **L2 正則化**（讓模型權重保持平滑），同樣用於防止過擬合。                     |\n",
    "| `class_weight='balanced'` | 自動根據資料中正負類別的比例調整權重，解決資料不平衡問題（例如再購客戶較少）。              |\n",
    "| `random_state=42`         | 固定隨機種子，確保實驗結果可重現。                                    |\n"
   ]
  },
  {
   "cell_type": "markdown",
   "id": "08a66278",
   "metadata": {},
   "source": [
    "模型訓練 + Early Stopping"
   ]
  },
  {
   "cell_type": "code",
   "execution_count": 42,
   "id": "d15cb8d0",
   "metadata": {},
   "outputs": [
    {
     "name": "stdout",
     "output_type": "stream",
     "text": [
      "[LightGBM] [Info] Number of positive: 5085, number of negative: 74467\n",
      "[LightGBM] [Info] Auto-choosing row-wise multi-threading, the overhead of testing was 0.006297 seconds.\n",
      "You can set `force_row_wise=true` to remove the overhead.\n",
      "And if memory is not enough, you can set `force_col_wise=true`.\n",
      "[LightGBM] [Info] Total Bins 289\n",
      "[LightGBM] [Info] Number of data points in the train set: 79552, number of used features: 18\n",
      "[LightGBM] [Info] [binary:BoostFromScore]: pavg=0.500000 -> initscore=0.000000\n",
      "[LightGBM] [Info] Start training from score 0.000000\n",
      "Training until validation scores don't improve for 50 rounds\n",
      "[100]\tvalid_0's auc: 0.625042\tvalid_0's binary_logloss: 0.621187\n",
      "Early stopping, best iteration is:\n",
      "[52]\tvalid_0's auc: 0.627105\tvalid_0's binary_logloss: 0.632772\n"
     ]
    },
    {
     "data": {
      "text/html": [
       "<style>#sk-container-id-1 {\n",
       "  /* Definition of color scheme common for light and dark mode */\n",
       "  --sklearn-color-text: black;\n",
       "  --sklearn-color-line: gray;\n",
       "  /* Definition of color scheme for unfitted estimators */\n",
       "  --sklearn-color-unfitted-level-0: #fff5e6;\n",
       "  --sklearn-color-unfitted-level-1: #f6e4d2;\n",
       "  --sklearn-color-unfitted-level-2: #ffe0b3;\n",
       "  --sklearn-color-unfitted-level-3: chocolate;\n",
       "  /* Definition of color scheme for fitted estimators */\n",
       "  --sklearn-color-fitted-level-0: #f0f8ff;\n",
       "  --sklearn-color-fitted-level-1: #d4ebff;\n",
       "  --sklearn-color-fitted-level-2: #b3dbfd;\n",
       "  --sklearn-color-fitted-level-3: cornflowerblue;\n",
       "\n",
       "  /* Specific color for light theme */\n",
       "  --sklearn-color-text-on-default-background: var(--sg-text-color, var(--theme-code-foreground, var(--jp-content-font-color1, black)));\n",
       "  --sklearn-color-background: var(--sg-background-color, var(--theme-background, var(--jp-layout-color0, white)));\n",
       "  --sklearn-color-border-box: var(--sg-text-color, var(--theme-code-foreground, var(--jp-content-font-color1, black)));\n",
       "  --sklearn-color-icon: #696969;\n",
       "\n",
       "  @media (prefers-color-scheme: dark) {\n",
       "    /* Redefinition of color scheme for dark theme */\n",
       "    --sklearn-color-text-on-default-background: var(--sg-text-color, var(--theme-code-foreground, var(--jp-content-font-color1, white)));\n",
       "    --sklearn-color-background: var(--sg-background-color, var(--theme-background, var(--jp-layout-color0, #111)));\n",
       "    --sklearn-color-border-box: var(--sg-text-color, var(--theme-code-foreground, var(--jp-content-font-color1, white)));\n",
       "    --sklearn-color-icon: #878787;\n",
       "  }\n",
       "}\n",
       "\n",
       "#sk-container-id-1 {\n",
       "  color: var(--sklearn-color-text);\n",
       "}\n",
       "\n",
       "#sk-container-id-1 pre {\n",
       "  padding: 0;\n",
       "}\n",
       "\n",
       "#sk-container-id-1 input.sk-hidden--visually {\n",
       "  border: 0;\n",
       "  clip: rect(1px 1px 1px 1px);\n",
       "  clip: rect(1px, 1px, 1px, 1px);\n",
       "  height: 1px;\n",
       "  margin: -1px;\n",
       "  overflow: hidden;\n",
       "  padding: 0;\n",
       "  position: absolute;\n",
       "  width: 1px;\n",
       "}\n",
       "\n",
       "#sk-container-id-1 div.sk-dashed-wrapped {\n",
       "  border: 1px dashed var(--sklearn-color-line);\n",
       "  margin: 0 0.4em 0.5em 0.4em;\n",
       "  box-sizing: border-box;\n",
       "  padding-bottom: 0.4em;\n",
       "  background-color: var(--sklearn-color-background);\n",
       "}\n",
       "\n",
       "#sk-container-id-1 div.sk-container {\n",
       "  /* jupyter's `normalize.less` sets `[hidden] { display: none; }`\n",
       "     but bootstrap.min.css set `[hidden] { display: none !important; }`\n",
       "     so we also need the `!important` here to be able to override the\n",
       "     default hidden behavior on the sphinx rendered scikit-learn.org.\n",
       "     See: https://github.com/scikit-learn/scikit-learn/issues/21755 */\n",
       "  display: inline-block !important;\n",
       "  position: relative;\n",
       "}\n",
       "\n",
       "#sk-container-id-1 div.sk-text-repr-fallback {\n",
       "  display: none;\n",
       "}\n",
       "\n",
       "div.sk-parallel-item,\n",
       "div.sk-serial,\n",
       "div.sk-item {\n",
       "  /* draw centered vertical line to link estimators */\n",
       "  background-image: linear-gradient(var(--sklearn-color-text-on-default-background), var(--sklearn-color-text-on-default-background));\n",
       "  background-size: 2px 100%;\n",
       "  background-repeat: no-repeat;\n",
       "  background-position: center center;\n",
       "}\n",
       "\n",
       "/* Parallel-specific style estimator block */\n",
       "\n",
       "#sk-container-id-1 div.sk-parallel-item::after {\n",
       "  content: \"\";\n",
       "  width: 100%;\n",
       "  border-bottom: 2px solid var(--sklearn-color-text-on-default-background);\n",
       "  flex-grow: 1;\n",
       "}\n",
       "\n",
       "#sk-container-id-1 div.sk-parallel {\n",
       "  display: flex;\n",
       "  align-items: stretch;\n",
       "  justify-content: center;\n",
       "  background-color: var(--sklearn-color-background);\n",
       "  position: relative;\n",
       "}\n",
       "\n",
       "#sk-container-id-1 div.sk-parallel-item {\n",
       "  display: flex;\n",
       "  flex-direction: column;\n",
       "}\n",
       "\n",
       "#sk-container-id-1 div.sk-parallel-item:first-child::after {\n",
       "  align-self: flex-end;\n",
       "  width: 50%;\n",
       "}\n",
       "\n",
       "#sk-container-id-1 div.sk-parallel-item:last-child::after {\n",
       "  align-self: flex-start;\n",
       "  width: 50%;\n",
       "}\n",
       "\n",
       "#sk-container-id-1 div.sk-parallel-item:only-child::after {\n",
       "  width: 0;\n",
       "}\n",
       "\n",
       "/* Serial-specific style estimator block */\n",
       "\n",
       "#sk-container-id-1 div.sk-serial {\n",
       "  display: flex;\n",
       "  flex-direction: column;\n",
       "  align-items: center;\n",
       "  background-color: var(--sklearn-color-background);\n",
       "  padding-right: 1em;\n",
       "  padding-left: 1em;\n",
       "}\n",
       "\n",
       "\n",
       "/* Toggleable style: style used for estimator/Pipeline/ColumnTransformer box that is\n",
       "clickable and can be expanded/collapsed.\n",
       "- Pipeline and ColumnTransformer use this feature and define the default style\n",
       "- Estimators will overwrite some part of the style using the `sk-estimator` class\n",
       "*/\n",
       "\n",
       "/* Pipeline and ColumnTransformer style (default) */\n",
       "\n",
       "#sk-container-id-1 div.sk-toggleable {\n",
       "  /* Default theme specific background. It is overwritten whether we have a\n",
       "  specific estimator or a Pipeline/ColumnTransformer */\n",
       "  background-color: var(--sklearn-color-background);\n",
       "}\n",
       "\n",
       "/* Toggleable label */\n",
       "#sk-container-id-1 label.sk-toggleable__label {\n",
       "  cursor: pointer;\n",
       "  display: block;\n",
       "  width: 100%;\n",
       "  margin-bottom: 0;\n",
       "  padding: 0.5em;\n",
       "  box-sizing: border-box;\n",
       "  text-align: center;\n",
       "}\n",
       "\n",
       "#sk-container-id-1 label.sk-toggleable__label-arrow:before {\n",
       "  /* Arrow on the left of the label */\n",
       "  content: \"▸\";\n",
       "  float: left;\n",
       "  margin-right: 0.25em;\n",
       "  color: var(--sklearn-color-icon);\n",
       "}\n",
       "\n",
       "#sk-container-id-1 label.sk-toggleable__label-arrow:hover:before {\n",
       "  color: var(--sklearn-color-text);\n",
       "}\n",
       "\n",
       "/* Toggleable content - dropdown */\n",
       "\n",
       "#sk-container-id-1 div.sk-toggleable__content {\n",
       "  max-height: 0;\n",
       "  max-width: 0;\n",
       "  overflow: hidden;\n",
       "  text-align: left;\n",
       "  /* unfitted */\n",
       "  background-color: var(--sklearn-color-unfitted-level-0);\n",
       "}\n",
       "\n",
       "#sk-container-id-1 div.sk-toggleable__content.fitted {\n",
       "  /* fitted */\n",
       "  background-color: var(--sklearn-color-fitted-level-0);\n",
       "}\n",
       "\n",
       "#sk-container-id-1 div.sk-toggleable__content pre {\n",
       "  margin: 0.2em;\n",
       "  border-radius: 0.25em;\n",
       "  color: var(--sklearn-color-text);\n",
       "  /* unfitted */\n",
       "  background-color: var(--sklearn-color-unfitted-level-0);\n",
       "}\n",
       "\n",
       "#sk-container-id-1 div.sk-toggleable__content.fitted pre {\n",
       "  /* unfitted */\n",
       "  background-color: var(--sklearn-color-fitted-level-0);\n",
       "}\n",
       "\n",
       "#sk-container-id-1 input.sk-toggleable__control:checked~div.sk-toggleable__content {\n",
       "  /* Expand drop-down */\n",
       "  max-height: 200px;\n",
       "  max-width: 100%;\n",
       "  overflow: auto;\n",
       "}\n",
       "\n",
       "#sk-container-id-1 input.sk-toggleable__control:checked~label.sk-toggleable__label-arrow:before {\n",
       "  content: \"▾\";\n",
       "}\n",
       "\n",
       "/* Pipeline/ColumnTransformer-specific style */\n",
       "\n",
       "#sk-container-id-1 div.sk-label input.sk-toggleable__control:checked~label.sk-toggleable__label {\n",
       "  color: var(--sklearn-color-text);\n",
       "  background-color: var(--sklearn-color-unfitted-level-2);\n",
       "}\n",
       "\n",
       "#sk-container-id-1 div.sk-label.fitted input.sk-toggleable__control:checked~label.sk-toggleable__label {\n",
       "  background-color: var(--sklearn-color-fitted-level-2);\n",
       "}\n",
       "\n",
       "/* Estimator-specific style */\n",
       "\n",
       "/* Colorize estimator box */\n",
       "#sk-container-id-1 div.sk-estimator input.sk-toggleable__control:checked~label.sk-toggleable__label {\n",
       "  /* unfitted */\n",
       "  background-color: var(--sklearn-color-unfitted-level-2);\n",
       "}\n",
       "\n",
       "#sk-container-id-1 div.sk-estimator.fitted input.sk-toggleable__control:checked~label.sk-toggleable__label {\n",
       "  /* fitted */\n",
       "  background-color: var(--sklearn-color-fitted-level-2);\n",
       "}\n",
       "\n",
       "#sk-container-id-1 div.sk-label label.sk-toggleable__label,\n",
       "#sk-container-id-1 div.sk-label label {\n",
       "  /* The background is the default theme color */\n",
       "  color: var(--sklearn-color-text-on-default-background);\n",
       "}\n",
       "\n",
       "/* On hover, darken the color of the background */\n",
       "#sk-container-id-1 div.sk-label:hover label.sk-toggleable__label {\n",
       "  color: var(--sklearn-color-text);\n",
       "  background-color: var(--sklearn-color-unfitted-level-2);\n",
       "}\n",
       "\n",
       "/* Label box, darken color on hover, fitted */\n",
       "#sk-container-id-1 div.sk-label.fitted:hover label.sk-toggleable__label.fitted {\n",
       "  color: var(--sklearn-color-text);\n",
       "  background-color: var(--sklearn-color-fitted-level-2);\n",
       "}\n",
       "\n",
       "/* Estimator label */\n",
       "\n",
       "#sk-container-id-1 div.sk-label label {\n",
       "  font-family: monospace;\n",
       "  font-weight: bold;\n",
       "  display: inline-block;\n",
       "  line-height: 1.2em;\n",
       "}\n",
       "\n",
       "#sk-container-id-1 div.sk-label-container {\n",
       "  text-align: center;\n",
       "}\n",
       "\n",
       "/* Estimator-specific */\n",
       "#sk-container-id-1 div.sk-estimator {\n",
       "  font-family: monospace;\n",
       "  border: 1px dotted var(--sklearn-color-border-box);\n",
       "  border-radius: 0.25em;\n",
       "  box-sizing: border-box;\n",
       "  margin-bottom: 0.5em;\n",
       "  /* unfitted */\n",
       "  background-color: var(--sklearn-color-unfitted-level-0);\n",
       "}\n",
       "\n",
       "#sk-container-id-1 div.sk-estimator.fitted {\n",
       "  /* fitted */\n",
       "  background-color: var(--sklearn-color-fitted-level-0);\n",
       "}\n",
       "\n",
       "/* on hover */\n",
       "#sk-container-id-1 div.sk-estimator:hover {\n",
       "  /* unfitted */\n",
       "  background-color: var(--sklearn-color-unfitted-level-2);\n",
       "}\n",
       "\n",
       "#sk-container-id-1 div.sk-estimator.fitted:hover {\n",
       "  /* fitted */\n",
       "  background-color: var(--sklearn-color-fitted-level-2);\n",
       "}\n",
       "\n",
       "/* Specification for estimator info (e.g. \"i\" and \"?\") */\n",
       "\n",
       "/* Common style for \"i\" and \"?\" */\n",
       "\n",
       ".sk-estimator-doc-link,\n",
       "a:link.sk-estimator-doc-link,\n",
       "a:visited.sk-estimator-doc-link {\n",
       "  float: right;\n",
       "  font-size: smaller;\n",
       "  line-height: 1em;\n",
       "  font-family: monospace;\n",
       "  background-color: var(--sklearn-color-background);\n",
       "  border-radius: 1em;\n",
       "  height: 1em;\n",
       "  width: 1em;\n",
       "  text-decoration: none !important;\n",
       "  margin-left: 1ex;\n",
       "  /* unfitted */\n",
       "  border: var(--sklearn-color-unfitted-level-1) 1pt solid;\n",
       "  color: var(--sklearn-color-unfitted-level-1);\n",
       "}\n",
       "\n",
       ".sk-estimator-doc-link.fitted,\n",
       "a:link.sk-estimator-doc-link.fitted,\n",
       "a:visited.sk-estimator-doc-link.fitted {\n",
       "  /* fitted */\n",
       "  border: var(--sklearn-color-fitted-level-1) 1pt solid;\n",
       "  color: var(--sklearn-color-fitted-level-1);\n",
       "}\n",
       "\n",
       "/* On hover */\n",
       "div.sk-estimator:hover .sk-estimator-doc-link:hover,\n",
       ".sk-estimator-doc-link:hover,\n",
       "div.sk-label-container:hover .sk-estimator-doc-link:hover,\n",
       ".sk-estimator-doc-link:hover {\n",
       "  /* unfitted */\n",
       "  background-color: var(--sklearn-color-unfitted-level-3);\n",
       "  color: var(--sklearn-color-background);\n",
       "  text-decoration: none;\n",
       "}\n",
       "\n",
       "div.sk-estimator.fitted:hover .sk-estimator-doc-link.fitted:hover,\n",
       ".sk-estimator-doc-link.fitted:hover,\n",
       "div.sk-label-container:hover .sk-estimator-doc-link.fitted:hover,\n",
       ".sk-estimator-doc-link.fitted:hover {\n",
       "  /* fitted */\n",
       "  background-color: var(--sklearn-color-fitted-level-3);\n",
       "  color: var(--sklearn-color-background);\n",
       "  text-decoration: none;\n",
       "}\n",
       "\n",
       "/* Span, style for the box shown on hovering the info icon */\n",
       ".sk-estimator-doc-link span {\n",
       "  display: none;\n",
       "  z-index: 9999;\n",
       "  position: relative;\n",
       "  font-weight: normal;\n",
       "  right: .2ex;\n",
       "  padding: .5ex;\n",
       "  margin: .5ex;\n",
       "  width: min-content;\n",
       "  min-width: 20ex;\n",
       "  max-width: 50ex;\n",
       "  color: var(--sklearn-color-text);\n",
       "  box-shadow: 2pt 2pt 4pt #999;\n",
       "  /* unfitted */\n",
       "  background: var(--sklearn-color-unfitted-level-0);\n",
       "  border: .5pt solid var(--sklearn-color-unfitted-level-3);\n",
       "}\n",
       "\n",
       ".sk-estimator-doc-link.fitted span {\n",
       "  /* fitted */\n",
       "  background: var(--sklearn-color-fitted-level-0);\n",
       "  border: var(--sklearn-color-fitted-level-3);\n",
       "}\n",
       "\n",
       ".sk-estimator-doc-link:hover span {\n",
       "  display: block;\n",
       "}\n",
       "\n",
       "/* \"?\"-specific style due to the `<a>` HTML tag */\n",
       "\n",
       "#sk-container-id-1 a.estimator_doc_link {\n",
       "  float: right;\n",
       "  font-size: 1rem;\n",
       "  line-height: 1em;\n",
       "  font-family: monospace;\n",
       "  background-color: var(--sklearn-color-background);\n",
       "  border-radius: 1rem;\n",
       "  height: 1rem;\n",
       "  width: 1rem;\n",
       "  text-decoration: none;\n",
       "  /* unfitted */\n",
       "  color: var(--sklearn-color-unfitted-level-1);\n",
       "  border: var(--sklearn-color-unfitted-level-1) 1pt solid;\n",
       "}\n",
       "\n",
       "#sk-container-id-1 a.estimator_doc_link.fitted {\n",
       "  /* fitted */\n",
       "  border: var(--sklearn-color-fitted-level-1) 1pt solid;\n",
       "  color: var(--sklearn-color-fitted-level-1);\n",
       "}\n",
       "\n",
       "/* On hover */\n",
       "#sk-container-id-1 a.estimator_doc_link:hover {\n",
       "  /* unfitted */\n",
       "  background-color: var(--sklearn-color-unfitted-level-3);\n",
       "  color: var(--sklearn-color-background);\n",
       "  text-decoration: none;\n",
       "}\n",
       "\n",
       "#sk-container-id-1 a.estimator_doc_link.fitted:hover {\n",
       "  /* fitted */\n",
       "  background-color: var(--sklearn-color-fitted-level-3);\n",
       "}\n",
       "</style><div id=\"sk-container-id-1\" class=\"sk-top-container\"><div class=\"sk-text-repr-fallback\"><pre>LGBMClassifier(class_weight=&#x27;balanced&#x27;, learning_rate=0.05, max_depth=5,\n",
       "               n_estimators=1000, num_leaves=15, objective=&#x27;binary&#x27;,\n",
       "               random_state=42, reg_alpha=0.1, reg_lambda=0.1)</pre><b>In a Jupyter environment, please rerun this cell to show the HTML representation or trust the notebook. <br />On GitHub, the HTML representation is unable to render, please try loading this page with nbviewer.org.</b></div><div class=\"sk-container\" hidden><div class=\"sk-item\"><div class=\"sk-estimator fitted sk-toggleable\"><input class=\"sk-toggleable__control sk-hidden--visually\" id=\"sk-estimator-id-1\" type=\"checkbox\" checked><label for=\"sk-estimator-id-1\" class=\"sk-toggleable__label fitted sk-toggleable__label-arrow fitted\">&nbsp;LGBMClassifier<span class=\"sk-estimator-doc-link fitted\">i<span>Fitted</span></span></label><div class=\"sk-toggleable__content fitted\"><pre>LGBMClassifier(class_weight=&#x27;balanced&#x27;, learning_rate=0.05, max_depth=5,\n",
       "               n_estimators=1000, num_leaves=15, objective=&#x27;binary&#x27;,\n",
       "               random_state=42, reg_alpha=0.1, reg_lambda=0.1)</pre></div> </div></div></div></div>"
      ],
      "text/plain": [
       "LGBMClassifier(class_weight='balanced', learning_rate=0.05, max_depth=5,\n",
       "               n_estimators=1000, num_leaves=15, objective='binary',\n",
       "               random_state=42, reg_alpha=0.1, reg_lambda=0.1)"
      ]
     },
     "execution_count": 42,
     "metadata": {},
     "output_type": "execute_result"
    }
   ],
   "source": [
    "from lightgbm import early_stopping, log_evaluation\n",
    "\n",
    "callbacks = [early_stopping(stopping_rounds=50), log_evaluation(period=100)]\n",
    "\n",
    "model.fit(\n",
    "    X_train, y_train,\n",
    "    eval_set=[(X_test, y_test)], # 設定驗證集，early stopping 和評估指標都會根據這組資料來判斷\n",
    "    eval_metric='auc', # 評估指標選用 AUC\n",
    "    callbacks = callbacks # 加入剛剛定義的回調函數\n",
    ")"
   ]
  },
  {
   "cell_type": "code",
   "execution_count": 43,
   "id": "7cb81a8a",
   "metadata": {},
   "outputs": [],
   "source": [
    "# early_stopping：當模型在驗證集上的表現停滯一段時間，自動停止訓練。\n",
    "# log_evaluation：定期輸出模型訓練的評估指標，方便觀察訓練過程。\n",
    "# early_stopping(stopping_rounds=50)：如果模型連續 50 次迭代沒有提升，就停止訓練（避免浪費計算資源）。\n",
    "# log_evaluation(period=100)：每 100 次迭代輸出一次評估指標（例如 AUC 分數）。"
   ]
  },
  {
   "cell_type": "markdown",
   "id": "54841a71",
   "metadata": {},
   "source": [
    "檢查 object 型態 > LightGBM 只能處理數值型態的資料"
   ]
  },
  {
   "cell_type": "code",
   "execution_count": 44,
   "id": "1921ddec",
   "metadata": {},
   "outputs": [
    {
     "name": "stdout",
     "output_type": "stream",
     "text": [
      "customer_unique_id    object\n",
      "order_id              object\n",
      "dtype: object\n"
     ]
    }
   ],
   "source": [
    "print(features.dtypes[features.dtypes == 'object'])"
   ]
  },
  {
   "cell_type": "markdown",
   "id": "c7d93682",
   "metadata": {},
   "source": [
    "檢查是否發生資料洩漏"
   ]
  },
  {
   "cell_type": "markdown",
   "id": "c07c14f9",
   "metadata": {},
   "source": [
    "- 特徵重要性 (Mutual Information Score) "
   ]
  },
  {
   "cell_type": "code",
   "execution_count": 45,
   "id": "9c650e7c",
   "metadata": {},
   "outputs": [
    {
     "name": "stdout",
     "output_type": "stream",
     "text": [
      "                         Feature  MI_Score\n",
      "0                   monetary_avg  0.065229\n",
      "2                    credit_card  0.019105\n",
      "16      main_payment_credit_card  0.018604\n",
      "15     customer_state_grouped_SP  0.011113\n",
      "1                         boleto  0.002372\n",
      "5                        voucher  0.002106\n",
      "8      customer_state_grouped_MG  0.001875\n",
      "10  customer_state_grouped_Other  0.001850\n",
      "14     customer_state_grouped_RS  0.001111\n",
      "12     customer_state_grouped_RJ  0.000932\n",
      "13     customer_state_grouped_RO  0.000756\n",
      "7      customer_state_grouped_GO  0.000531\n",
      "3                     debit_card  0.000132\n",
      "17       main_payment_debit_card  0.000000\n",
      "9      customer_state_grouped_MT  0.000000\n",
      "11     customer_state_grouped_PR  0.000000\n",
      "6      customer_state_grouped_ES  0.000000\n",
      "4                    not_defined  0.000000\n",
      "18          main_payment_voucher  0.000000\n"
     ]
    }
   ],
   "source": [
    "from sklearn.feature_selection import mutual_info_classif\n",
    "\n",
    "mi_scores = mutual_info_classif(X, y)\n",
    "mi_df = pd.DataFrame({'Feature': X.columns, 'MI_Score': mi_scores})\n",
    "print(mi_df.sort_values('MI_Score', ascending=False))"
   ]
  },
  {
   "cell_type": "markdown",
   "id": "cd85b5c1",
   "metadata": {},
   "source": [
    "- 目標變數分布是否合理"
   ]
  },
  {
   "cell_type": "code",
   "execution_count": 46,
   "id": "ce2dca9d",
   "metadata": {},
   "outputs": [
    {
     "name": "stdout",
     "output_type": "stream",
     "text": [
      "is_repurchase\n",
      "0    0.936223\n",
      "1    0.063777\n",
      "Name: proportion, dtype: float64\n"
     ]
    }
   ],
   "source": [
    "print(y.value_counts(normalize=True))"
   ]
  },
  {
   "cell_type": "markdown",
   "id": "5467c28f",
   "metadata": {},
   "source": [
    "- 信用卡使用次數透露是否回購 > 改成 \"是否用過\" 這個特徵"
   ]
  },
  {
   "cell_type": "code",
   "execution_count": 47,
   "id": "7cf25c1a",
   "metadata": {},
   "outputs": [
    {
     "name": "stdout",
     "output_type": "stream",
     "text": [
      "is_repurchase\n",
      "0    0.769428\n",
      "1    0.821507\n",
      "Name: credit_card, dtype: float64\n"
     ]
    }
   ],
   "source": [
    "print(features.groupby('is_repurchase')['credit_card'].mean())"
   ]
  },
  {
   "cell_type": "markdown",
   "id": "6ceceadf",
   "metadata": {},
   "source": [
    "預測結果"
   ]
  },
  {
   "cell_type": "code",
   "execution_count": 48,
   "id": "56fc9d0c",
   "metadata": {},
   "outputs": [
    {
     "name": "stdout",
     "output_type": "stream",
     "text": [
      "AUC-ROC: 0.6271\n",
      "F1 Score: 0.1492\n",
      "Precision: 0.0857\n",
      "Recall: 0.5752\n",
      "\n",
      "Classification Report:\n",
      "               precision    recall  f1-score   support\n",
      "\n",
      "           0       0.95      0.59      0.73     18632\n",
      "           1       0.09      0.58      0.15      1257\n",
      "\n",
      "    accuracy                           0.59     19889\n",
      "   macro avg       0.52      0.58      0.44     19889\n",
      "weighted avg       0.90      0.59      0.69     19889\n",
      "\n"
     ]
    }
   ],
   "source": [
    "y_pred_prob = model.predict_proba(X_test)[:, 1]\n",
    "y_pred = (y_pred_prob >= 0.5).astype(int)\n",
    "\n",
    "print(f\"AUC-ROC: {roc_auc_score(y_test, y_pred_prob):.4f}\")\n",
    "print(f\"F1 Score: {f1_score(y_test, y_pred):.4f}\")\n",
    "print(f\"Precision: {precision_score(y_test, y_pred):.4f}\")\n",
    "print(f\"Recall: {recall_score(y_test, y_pred):.4f}\")\n",
    "print(\"\\nClassification Report:\\n\", classification_report(y_test, y_pred))"
   ]
  },
  {
   "cell_type": "markdown",
   "id": "d45a4b89",
   "metadata": {},
   "source": [
    "特徵重要性分析"
   ]
  },
  {
   "cell_type": "code",
   "execution_count": 49,
   "id": "dda47ebc",
   "metadata": {},
   "outputs": [
    {
     "data": {
      "image/png": "[encoded data removed]",
      "text/plain": [
       "<Figure size 800x600 with 1 Axes>"
      ]
     },
     "metadata": {},
     "output_type": "display_data"
    }
   ],
   "source": [
    "import matplotlib.pyplot as plt\n",
    "\n",
    "importances = model.feature_importances_\n",
    "feature_names = X.columns\n",
    "\n",
    "plt.figure(figsize=(8, 6))\n",
    "plt.barh(feature_names, importances)\n",
    "plt.title('Feature Importance')\n",
    "plt.xlabel('Importance')\n",
    "plt.tight_layout()\n",
    "plt.show()"
   ]
  },
  {
   "cell_type": "markdown",
   "id": "72d27bb2",
   "metadata": {},
   "source": [
    "高再購潛力客戶名單"
   ]
  },
  {
   "cell_type": "code",
   "execution_count": 50,
   "id": "65646828",
   "metadata": {},
   "outputs": [
    {
     "name": "stdout",
     "output_type": "stream",
     "text": [
      "📌 Top 10 High Repurchase Probability Customers:\n",
      "                     customer_unique_id  repurchase_prob\n",
      "9751   18e3d276253780b44b5b7bf83f6785ec         0.963456\n",
      "66352  aa89a987e1e092c318fbdc4b0e3dcc44         0.963456\n",
      "66353  aa89a987e1e092c318fbdc4b0e3dcc44         0.963456\n",
      "9750   18e3d276253780b44b5b7bf83f6785ec         0.963456\n",
      "9749   18e3d276253780b44b5b7bf83f6785ec         0.963456\n",
      "22370  397b44d5bb99eabf54ea9c2b41ebb905         0.960756\n",
      "22371  397b44d5bb99eabf54ea9c2b41ebb905         0.960756\n",
      "22373  397b44d5bb99eabf54ea9c2b41ebb905         0.960756\n",
      "22372  397b44d5bb99eabf54ea9c2b41ebb905         0.960756\n",
      "91262  eaa604ab9f816252edb7a8d297f932e5         0.960236\n"
     ]
    },
    {
     "data": {
      "application/vnd.microsoft.datawrangler.viewer.v0+json": {
       "columns": [
        {
         "name": "index",
         "rawType": "int64",
         "type": "integer"
        },
        {
         "name": "customer_unique_id",
         "rawType": "object",
         "type": "string"
        },
        {
         "name": "repurchase_prob",
         "rawType": "float64",
         "type": "float"
        }
       ],
       "conversionMethod": "pd.DataFrame",
       "ref": "36f09ad8-7f8c-4501-affd-777f621956bb",
       "rows": [
        [
         "9751",
         "18e3d276253780b44b5b7bf83f6785ec",
         "0.9634559684522536"
        ],
        [
         "66352",
         "aa89a987e1e092c318fbdc4b0e3dcc44",
         "0.9634559684522536"
        ],
        [
         "66353",
         "aa89a987e1e092c318fbdc4b0e3dcc44",
         "0.9634559684522536"
        ],
        [
         "9750",
         "18e3d276253780b44b5b7bf83f6785ec",
         "0.9634559684522536"
        ],
        [
         "9749",
         "18e3d276253780b44b5b7bf83f6785ec",
         "0.9634559684522536"
        ]
       ],
       "shape": {
        "columns": 2,
        "rows": 5
       }
      },
      "text/html": [
       "<div>\n",
       "<style scoped>\n",
       "    .dataframe tbody tr th:only-of-type {\n",
       "        vertical-align: middle;\n",
       "    }\n",
       "\n",
       "    .dataframe tbody tr th {\n",
       "        vertical-align: top;\n",
       "    }\n",
       "\n",
       "    .dataframe thead th {\n",
       "        text-align: right;\n",
       "    }\n",
       "</style>\n",
       "<table border=\"1\" class=\"dataframe\">\n",
       "  <thead>\n",
       "    <tr style=\"text-align: right;\">\n",
       "      <th></th>\n",
       "      <th>customer_unique_id</th>\n",
       "      <th>repurchase_prob</th>\n",
       "    </tr>\n",
       "  </thead>\n",
       "  <tbody>\n",
       "    <tr>\n",
       "      <th>9751</th>\n",
       "      <td>18e3d276253780b44b5b7bf83f6785ec</td>\n",
       "      <td>0.963456</td>\n",
       "    </tr>\n",
       "    <tr>\n",
       "      <th>66352</th>\n",
       "      <td>aa89a987e1e092c318fbdc4b0e3dcc44</td>\n",
       "      <td>0.963456</td>\n",
       "    </tr>\n",
       "    <tr>\n",
       "      <th>66353</th>\n",
       "      <td>aa89a987e1e092c318fbdc4b0e3dcc44</td>\n",
       "      <td>0.963456</td>\n",
       "    </tr>\n",
       "    <tr>\n",
       "      <th>9750</th>\n",
       "      <td>18e3d276253780b44b5b7bf83f6785ec</td>\n",
       "      <td>0.963456</td>\n",
       "    </tr>\n",
       "    <tr>\n",
       "      <th>9749</th>\n",
       "      <td>18e3d276253780b44b5b7bf83f6785ec</td>\n",
       "      <td>0.963456</td>\n",
       "    </tr>\n",
       "  </tbody>\n",
       "</table>\n",
       "</div>"
      ],
      "text/plain": [
       "                     customer_unique_id  repurchase_prob\n",
       "9751   18e3d276253780b44b5b7bf83f6785ec         0.963456\n",
       "66352  aa89a987e1e092c318fbdc4b0e3dcc44         0.963456\n",
       "66353  aa89a987e1e092c318fbdc4b0e3dcc44         0.963456\n",
       "9750   18e3d276253780b44b5b7bf83f6785ec         0.963456\n",
       "9749   18e3d276253780b44b5b7bf83f6785ec         0.963456"
      ]
     },
     "execution_count": 50,
     "metadata": {},
     "output_type": "execute_result"
    }
   ],
   "source": [
    "features['repurchase_prob'] = model.predict_proba(X)[:, 1]\n",
    "high_potential_customers = features[features['repurchase_prob'] >= 0.7][\n",
    "    ['customer_unique_id', 'repurchase_prob']\n",
    "].sort_values(by='repurchase_prob', ascending=False)\n",
    "\n",
    "print(\"📌 Top 10 High Repurchase Probability Customers:\")\n",
    "print(high_potential_customers.head(10))\n",
    "\n",
    "# 可以直接存檔\n",
    "# high_potential_customers.to_csv('high_potential_customers.csv', index=False)\n",
    "high_potential_customers.head()"
   ]
  },
  {
   "cell_type": "markdown",
   "id": "d88a3321",
   "metadata": {},
   "source": [
    "#### **5. 客戶分群分析 (Audience Segmentation)** "
   ]
  },
  {
   "cell_type": "markdown",
   "id": "3adb8135",
   "metadata": {},
   "source": [
    "準備分群特徵\n",
    "\n",
    "- RFM 模型\n",
    "\n",
    "| 特徵        | 說明         |\n",
    "| --------- | ---------- |\n",
    "| Recency   | 最近一次購買距今幾天 |\n",
    "| Frequency | 購買次數       |\n",
    "| Monetary  | 平均消費金額     |\n"
   ]
  },
  {
   "cell_type": "code",
   "execution_count": 52,
   "id": "c2640d82",
   "metadata": {},
   "outputs": [
    {
     "name": "stderr",
     "output_type": "stream",
     "text": [
      "C:\\Users\\Maggie\\AppData\\Local\\Temp\\ipykernel_8396\\1470436482.py:11: SettingWithCopyWarning:\n",
      "\n",
      "\n",
      "A value is trying to be set on a copy of a slice from a DataFrame\n",
      "\n",
      "See the caveats in the documentation: https://pandas.pydata.org/pandas-docs/stable/user_guide/indexing.html#returning-a-view-versus-a-copy\n",
      "\n"
     ]
    }
   ],
   "source": [
    "high_potential_customers = pd.merge(\n",
    "    high_potential_customers,  # 左表：只包含高潛力客戶的 ID 和預測機率\n",
    "    features[['customer_unique_id', 'recency_days', 'order_count', 'monetary_avg']],  # 右表：完整特徵\n",
    "    on='customer_unique_id',\n",
    "    how='left'\n",
    ")\n",
    "\n",
    "segmentation_features = high_potential_customers[['recency_days', 'order_count', 'monetary_avg', 'repurchase_prob']]\n",
    "\n",
    "# 確保沒有缺失值\n",
    "segmentation_features.fillna(0, inplace=True)"
   ]
  },
  {
   "cell_type": "markdown",
   "id": "aa476746",
   "metadata": {},
   "source": [
    "特徵標準化（Standardization）\n",
    "\n",
    "K-Means 對數值範圍很敏感"
   ]
  },
  {
   "cell_type": "code",
   "execution_count": 53,
   "id": "d0b606d1",
   "metadata": {},
   "outputs": [],
   "source": [
    "from sklearn.preprocessing import StandardScaler\n",
    "\n",
    "scaler = StandardScaler()\n",
    "segmentation_scaled = scaler.fit_transform(segmentation_features)"
   ]
  },
  {
   "cell_type": "markdown",
   "id": "fbd8c48f",
   "metadata": {},
   "source": [
    "使用 K-Means 分群"
   ]
  },
  {
   "cell_type": "markdown",
   "id": "f5da1df2",
   "metadata": {},
   "source": [
    "- 決定最佳群數（Elbow Method）"
   ]
  },
  {
   "cell_type": "code",
   "execution_count": 56,
   "id": "af6bf01d",
   "metadata": {},
   "outputs": [
    {
     "data": {
      "image/png": "[encoded data removed]",
      "text/plain": [
       "<Figure size 640x480 with 1 Axes>"
      ]
     },
     "metadata": {},
     "output_type": "display_data"
    }
   ],
   "source": [
    "import matplotlib.pyplot as plt\n",
    "from sklearn.cluster import KMeans\n",
    "\n",
    "sse = []\n",
    "for k in range(1, 10):\n",
    "    kmeans = KMeans(n_clusters=k, random_state=42)\n",
    "    kmeans.fit(segmentation_scaled)\n",
    "    sse.append(kmeans.inertia_)\n",
    "\n",
    "plt.plot(range(1, 10), sse, marker='o')\n",
    "plt.xlabel('Number of Clusters')\n",
    "plt.ylabel('SSE (Inertia)')\n",
    "plt.title('Elbow Method for Optimal k')\n",
    "plt.show()"
   ]
  },
  {
   "cell_type": "markdown",
   "id": "e7149ee7",
   "metadata": {},
   "source": [
    "- 正式分群"
   ]
  },
  {
   "cell_type": "code",
   "execution_count": 79,
   "id": "18152944",
   "metadata": {},
   "outputs": [],
   "source": [
    "kmeans = KMeans(n_clusters=2, random_state=42)\n",
    "high_potential_customers['customer_segment'] = kmeans.fit_predict(segmentation_scaled)"
   ]
  },
  {
   "cell_type": "markdown",
   "id": "5425bd9b",
   "metadata": {},
   "source": [
    "分析分群結果"
   ]
  },
  {
   "cell_type": "code",
   "execution_count": 80,
   "id": "964b6bb9",
   "metadata": {},
   "outputs": [
    {
     "name": "stdout",
     "output_type": "stream",
     "text": [
      "                  recency_days  order_count  monetary_avg  repurchase_prob\n",
      "customer_segment                                                          \n",
      "0                   210.452967     2.921852    158.610137         0.886698\n",
      "1                   284.931742     1.441050    114.484451         0.716045\n"
     ]
    }
   ],
   "source": [
    "segment_analysis = high_potential_customers.groupby('customer_segment')[['recency_days', 'order_count', 'monetary_avg', 'repurchase_prob']].mean()\n",
    "print(segment_analysis)"
   ]
  },
  {
   "cell_type": "markdown",
   "id": "9a3ef7ca",
   "metadata": {},
   "source": [
    "- 客群規模占比"
   ]
  },
  {
   "cell_type": "code",
   "execution_count": 81,
   "id": "63b6f3a9",
   "metadata": {},
   "outputs": [
    {
     "name": "stdout",
     "output_type": "stream",
     "text": [
      "customer_segment\n",
      "1    60.253092\n",
      "0    39.746908\n",
      "Name: proportion, dtype: float64\n"
     ]
    }
   ],
   "source": [
    "group_distribution = high_potential_customers['customer_segment'].value_counts(normalize=True) * 100\n",
    "print(group_distribution)"
   ]
  },
  {
   "cell_type": "markdown",
   "id": "ea811d2c",
   "metadata": {},
   "source": [
    "合併表格"
   ]
  },
  {
   "cell_type": "code",
   "execution_count": 82,
   "id": "cce481fe",
   "metadata": {},
   "outputs": [
    {
     "name": "stdout",
     "output_type": "stream",
     "text": [
      " customer_segment  recency_days  order_count  monetary_avg  repurchase_prob  percentage (%)\n",
      "                0    210.452967     2.921852    158.610137         0.886698       39.746908\n",
      "                1    284.931742     1.441050    114.484451         0.716045       60.253092\n"
     ]
    }
   ],
   "source": [
    "# 將 group_distribution 轉成 DataFrame 並重設欄位名稱\n",
    "group_distribution_df = group_distribution.rename('percentage (%)').reset_index()\n",
    "group_distribution_df.columns = ['customer_segment', 'percentage (%)']\n",
    "\n",
    "# segment_analysis 原本的 index 是 customer_segment，先重設 index\n",
    "segment_analysis = segment_analysis.reset_index()\n",
    "\n",
    "# 合併兩個 DataFrame\n",
    "merged_df = pd.merge(segment_analysis, group_distribution_df, on='customer_segment')\n",
    "\n",
    "# 按群組排序（如果需要）\n",
    "merged_df = merged_df.sort_values('customer_segment').reset_index(drop=True)\n",
    "\n",
    "# 顯示結果\n",
    "print(merged_df.to_string(index=False))"
   ]
  },
  {
   "cell_type": "markdown",
   "id": "8df0c834",
   "metadata": {},
   "source": [
    "延伸 k = 5"
   ]
  },
  {
   "cell_type": "code",
   "execution_count": 83,
   "id": "d8c12cfc",
   "metadata": {},
   "outputs": [
    {
     "name": "stdout",
     "output_type": "stream",
     "text": [
      " customer_segment  recency_days  order_count  monetary_avg  repurchase_prob  percentage (%)\n",
      "                0    205.679208     2.358416    127.833960         0.891745       29.048030\n",
      "                1    165.343980     1.576577    116.662441         0.716348       35.116480\n",
      "                2    186.750000     6.260870    170.331250         0.903146        5.291918\n",
      "                3    438.265222     1.429309    110.989200         0.724843       27.868852\n",
      "                4    205.548387     2.290323    522.553871         0.878017        2.674720\n"
     ]
    }
   ],
   "source": [
    "kmeans = KMeans(n_clusters=5, random_state=42)\n",
    "high_potential_customers['customer_segment'] = kmeans.fit_predict(segmentation_scaled)\n",
    "\n",
    "segment_analysis = high_potential_customers.groupby('customer_segment')[['recency_days', 'order_count', 'monetary_avg', 'repurchase_prob']].mean()\n",
    "\n",
    "group_distribution = high_potential_customers['customer_segment'].value_counts(normalize=True) * 100\n",
    "\n",
    "group_distribution_df = group_distribution.rename('percentage (%)').reset_index()\n",
    "group_distribution_df.columns = ['customer_segment', 'percentage (%)']\n",
    "\n",
    "segment_analysis = segment_analysis.reset_index()\n",
    "\n",
    "merged_df = pd.merge(segment_analysis, group_distribution_df, on='customer_segment')\n",
    "\n",
    "merged_df = merged_df.sort_values('customer_segment').reset_index(drop=True)\n",
    "\n",
    "print(merged_df.to_string(index=False))"
   ]
  },
  {
   "cell_type": "markdown",
   "id": "5b933e83",
   "metadata": {},
   "source": [
    "> 行銷策略"
   ]
  },
  {
   "cell_type": "markdown",
   "id": "caa95b46",
   "metadata": {},
   "source": [
    "k = 2\n",
    "\n",
    "| 群組 | Recency（天） | Frequency | Monetary | 客戶特徵       | 占比 (%) | 預期行銷貢獻 | 行銷優先級 | 行銷策略建議        |\n",
    "| -- | ---------- | --------- | -------- | ---------- | ------ | ------ | ----- | ------------- |\n",
    "| 0  | 210.45     | 2.92      | 158.61   | 穩定回購、高再購機率 | 39.75  | 高      | 高     | 強化專屬優惠，提高客單價  |\n",
    "| 1  | 284.93     | 1.44      | 114.48   | 回購頻率低、價值偏低 | 60.25  | 中低     | 中     | 提供入門優惠，觀察轉化效果 |\n"
   ]
  },
  {
   "cell_type": "markdown",
   "id": "ccb461a5",
   "metadata": {},
   "source": [
    "k = 5\n",
    "\n",
    "| 群組 | Recency（天） | Frequency | Monetary   | 客戶特徵       | 占比 (%) | 預期行銷貢獻 | 行銷優先級 | 行銷策略建議               |\n",
    "| -- | ---------- | --------- | ---------- | ---------- | ------ | ------ | ----- | -------------------- |\n",
    "| 0  | 205.68     | 2.36      | 127.83     | 穩定回購客戶     | 29.05  | 高      | 高     | 提供專屬優惠，提高客單價         |\n",
    "| 1  | **165.34** | 1.58      | 116.66     | 最近活躍、新興客戶  | 35.12  | 中      | 中     | 提供首次回購優惠，提升忠誠度       |\n",
    "| 2  | 186.75     | **6.26**  | 170.33     | 超高回購忠誠客戶   | 5.29   | 極高     | 最高    | 重點維護 VIP，強化關係        |\n",
    "| 3  | **438.27** | 1.43      | 110.99     | 長期未回購、流失客戶 | 27.87  | 低      | 低     | 一次性折扣測試回購意願，無回應即放棄   |\n",
    "| 4  | 205.55     | 2.29      | **522.55** | 高單價潛力客戶    | 2.67   | 高      | 高     | 提供高價產品專屬優惠，打造 VIP 體驗 |\n"
   ]
  }
 ],
 "metadata": {
  "kernelspec": {
   "display_name": "Python 3",
   "language": "python",
   "name": "python3"
  },
  "language_info": {
   "codemirror_mode": {
    "name": "ipython",
    "version": 3
   },
   "file_extension": ".py",
   "mimetype": "text/x-python",
   "name": "python",
   "nbconvert_exporter": "python",
   "pygments_lexer": "ipython3",
   "version": "3.11.5"
  }
 },
 "nbformat": 4,
 "nbformat_minor": 5
}
